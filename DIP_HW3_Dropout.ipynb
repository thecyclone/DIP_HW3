{
 "cells": [
  {
   "cell_type": "code",
   "execution_count": 1,
   "metadata": {
    "colab": {},
    "colab_type": "code",
    "id": "cJlCdIrYsL_U"
   },
   "outputs": [],
   "source": [
    "import torch\n",
    "import torchvision\n",
    "import torchvision.transforms as transforms\n",
    "import matplotlib.pyplot as plt\n",
    "import numpy as np\n",
    "import torch.nn as nn\n",
    "import torch.nn.functional as F"
   ]
  },
  {
   "cell_type": "code",
   "execution_count": 2,
   "metadata": {
    "colab": {},
    "colab_type": "code",
    "id": "X5HF2h20sNnf"
   },
   "outputs": [],
   "source": [
    "device = torch.device(\"cuda:0\" if torch.cuda.is_available() else \"cpu\")"
   ]
  },
  {
   "cell_type": "code",
   "execution_count": 3,
   "metadata": {
    "colab": {
     "base_uri": "https://localhost:8080/",
     "height": 34
    },
    "colab_type": "code",
    "id": "i0nx_VpMr7kR",
    "outputId": "973f4921-30fc-42e6-f4d3-9a9cdf4f12cd"
   },
   "outputs": [
    {
     "name": "stdout",
     "output_type": "stream",
     "text": [
      "cuda:0\n"
     ]
    }
   ],
   "source": [
    "print(device)"
   ]
  },
  {
   "cell_type": "code",
   "execution_count": 4,
   "metadata": {},
   "outputs": [
    {
     "name": "stdout",
     "output_type": "stream",
     "text": [
      "==> Preparing data..\n"
     ]
    }
   ],
   "source": [
    "# Data\n",
    "print('==> Preparing data..')\n",
    "transform_train = transforms.Compose([\n",
    "    transforms.RandomCrop(32, padding=4),\n",
    "    transforms.RandomHorizontalFlip(),\n",
    "    transforms.ToTensor(),\n",
    "    transforms.Normalize((0.5, 0.55, 0.5), (0.5, 0.5, 0.5)),\n",
    "])\n",
    "\n",
    "transform_test = transforms.Compose([\n",
    "    transforms.ToTensor(),\n",
    "    transforms.Normalize((0.4914, 0.4822, 0.4465), (0.2023, 0.1994, 0.2010)),\n",
    "])"
   ]
  },
  {
   "cell_type": "code",
   "execution_count": 5,
   "metadata": {
    "colab": {
     "base_uri": "https://localhost:8080/",
     "height": 118,
     "referenced_widgets": [
      "81c47ce98ef349c296bc259f18b6aee2",
      "b6cb02d2e54d473a83d0d7e31caab975",
      "e49d1df8de3949059d0364ab754e5d1a",
      "432419c8e63c43f581f69646ecb669a5",
      "ac12a4734c994927aaf04f885d464215",
      "1348d537345248898f5743c7d9a996cf",
      "9c4d15759fe145e28735a01b03393a5d",
      "2082ad38106243fb8d9852962e91f442"
     ]
    },
    "colab_type": "code",
    "id": "N1fB_31Ap8mV",
    "outputId": "8daedb04-69c5-4e7c-ac1a-f6be90b3f0c6"
   },
   "outputs": [
    {
     "name": "stdout",
     "output_type": "stream",
     "text": [
      "Files already downloaded and verified\n",
      "Files already downloaded and verified\n",
      "Files already downloaded and verified\n"
     ]
    }
   ],
   "source": [
    "################################`sets are PILImage images of range [0, 1].\n",
    "# We transform them to Tensors of normalized range [-1, 1].\n",
    "# .. note::\n",
    "#     If running on Windows and you get a BrokenPipeError, try setting\n",
    "#     the num_worker of torch.utils.data.DataLoader() to 0.\n",
    "\n",
    "transform = transforms.Compose(\n",
    "    [transforms.ToTensor(),\n",
    "     transforms.Normalize((0.5, 0.5, 0.5), (0.5, 0.5, 0.5))])\n",
    "\n",
    "trainset = torchvision.datasets.CIFAR10(root='./data', train=True,\n",
    "                                        download=True, transform=transform_train)\n",
    "\n",
    "trainset1 = torchvision.datasets.CIFAR10(root='./data', train=True,\n",
    "                                        download=True, transform=transform)\n",
    "\n",
    "trainset = trainset + trainset1\n",
    "\n",
    "trainloader = torch.utils.data.DataLoader(trainset, batch_size=4,\n",
    "                                          shuffle=True, num_workers=2)\n",
    "\n",
    "testset = torchvision.datasets.CIFAR10(root='./data', train=False,\n",
    "                                       download=True, transform=transform)\n",
    "testloader = torch.utils.data.DataLoader(testset, batch_size=4,\n",
    "                                         shuffle=False, num_workers=2)\n",
    "\n",
    "classes = ('plane', 'car', 'bird', 'cat',\n",
    "           'deer', 'dog', 'frog', 'horse', 'ship', 'truck')\n",
    "\n",
    "########################################################################\n",
    "# Let us show some of the training images, for fun."
   ]
  },
  {
   "cell_type": "code",
   "execution_count": 6,
   "metadata": {
    "colab": {},
    "colab_type": "code",
    "id": "GrG4EA8zqH_x"
   },
   "outputs": [],
   "source": [
    "# functions to show an image\n",
    "\n",
    "\n",
    "def imshow(img):\n",
    "    img = img / 2 + 0.5     # unnormalize\n",
    "    npimg = img.numpy()\n",
    "    plt.imshow(np.transpose(npimg, (1, 2, 0)))\n",
    "    plt.show()"
   ]
  },
  {
   "cell_type": "code",
   "execution_count": 7,
   "metadata": {
    "colab": {
     "base_uri": "https://localhost:8080/",
     "height": 155
    },
    "colab_type": "code",
    "id": "Z2WeVhkVqS2P",
    "outputId": "744b9366-6296-4d8a-ce1c-a8cb2885f8a1"
   },
   "outputs": [
    {
     "name": "stderr",
     "output_type": "stream",
     "text": [
      "Clipping input data to the valid range for imshow with RGB data ([0..1] for floats or [0..255] for integers).\n"
     ]
    },
    {
     "data": {
      "image/png": "[encoded data removed]",
      "text/plain": [
       "<Figure size 432x288 with 1 Axes>"
      ]
     },
     "metadata": {
      "needs_background": "light"
     },
     "output_type": "display_data"
    },
    {
     "name": "stdout",
     "output_type": "stream",
     "text": [
      "  car  ship  ship  bird\n"
     ]
    }
   ],
   "source": [
    "# get some random training images\n",
    "dataiter = iter(trainloader)\n",
    "images, labels = dataiter.next()\n",
    "\n",
    "# show images\n",
    "imshow(torchvision.utils.make_grid(images))\n",
    "# print labels\n",
    "print(' '.join('%5s' % classes[labels[j]] for j in range(4)))"
   ]
  },
  {
   "cell_type": "code",
   "execution_count": 8,
   "metadata": {
    "colab": {},
    "colab_type": "code",
    "id": "XzrxV9AoqZwK"
   },
   "outputs": [
    {
     "data": {
      "text/plain": [
       "Net(\n",
       "  (conv1): Conv2d(3, 6, kernel_size=(5, 5), stride=(1, 1))\n",
       "  (dropout1): Dropout(p=0.15, inplace=False)\n",
       "  (conv2): Conv2d(6, 10, kernel_size=(5, 5), stride=(1, 1))\n",
       "  (conv3): Conv2d(10, 16, kernel_size=(5, 5), stride=(1, 1))\n",
       "  (dropout3): Dropout(p=0.25, inplace=False)\n",
       "  (fc1): Linear(in_features=6400, out_features=450, bias=True)\n",
       "  (dropout4): Dropout(p=0.25, inplace=False)\n",
       "  (fc2): Linear(in_features=450, out_features=150, bias=True)\n",
       "  (dropout5): Dropout(p=0.15, inplace=False)\n",
       "  (fc3): Linear(in_features=150, out_features=10, bias=True)\n",
       ")"
      ]
     },
     "execution_count": 8,
     "metadata": {},
     "output_type": "execute_result"
    }
   ],
   "source": [
    "########################################################################\n",
    "# 2. Define a Convolutional Neural Network\n",
    "# ^^^^^^^^^^^^^^^^^^^^^^^^^^^^^^^^^^^^^^\n",
    "# Copy the neural network from the Neural Networks section before and modify it to\n",
    "# take 3-channel images (instead of 1-channel images as it was defined).\n",
    "\n",
    "\n",
    "\n",
    "\n",
    "class Net(nn.Module):\n",
    "    def __init__(self):\n",
    "        super(Net, self).__init__()\n",
    "        self.conv1 = nn.Conv2d(3, 6, 5)\n",
    "        self.dropout1 = nn.Dropout(p=0.15, inplace=False)\n",
    "        self.conv2 = nn.Conv2d(6, 10, 5)\n",
    "        #self.dropout2 = nn.Dropout(p=0.25, inplace=False)\n",
    "        self.conv3 = nn.Conv2d(10, 16, 5)\n",
    "        self.dropout3 = nn.Dropout(p=0.25, inplace=False)\n",
    "        self.fc1 = nn.Linear(16 * 20 * 20, 450)\n",
    "        self.dropout4 = nn.Dropout(p=0.25, inplace=False)\n",
    "        self.fc2 = nn.Linear(450, 150)\n",
    "        self.dropout5 = nn.Dropout(p=0.15, inplace=False)\n",
    "        self.fc3 = nn.Linear(150, 10)\n",
    "\n",
    "    def forward(self, x):\n",
    "        x = F.relu(self.conv1(x))\n",
    "        x = self.dropout1(x)\n",
    "        x = F.relu(self.conv2(x))\n",
    "        #x = self.dropout2(x)\n",
    "        x = F.relu(self.conv3(x))\n",
    "        x = self.dropout3(x)\n",
    "        x = x.view(-1, 16 * 20 * 20)\n",
    "        x = F.relu(self.fc1(x))\n",
    "        x = self.dropout4(x)\n",
    "        x = F.relu(self.fc2(x))\n",
    "        x = self.dropout5(x)\n",
    "        x = self.fc3(x)\n",
    "        return x\n",
    "\n",
    "\n",
    "net = Net()\n",
    "net.to(torch.device(\"cuda:0\"))"
   ]
  },
  {
   "cell_type": "code",
   "execution_count": 9,
   "metadata": {
    "colab": {},
    "colab_type": "code",
    "id": "DnA__-LLoLRq"
   },
   "outputs": [],
   "source": [
    "def get_n_params(model):\n",
    "    pp=0\n",
    "    for p in list(model.parameters()):\n",
    "        nn=1\n",
    "        for s in list(p.size()):\n",
    "            nn = nn*s\n",
    "        pp += nn\n",
    "    return pp"
   ]
  },
  {
   "cell_type": "code",
   "execution_count": 10,
   "metadata": {
    "colab": {},
    "colab_type": "code",
    "id": "72nEleSDqrTV"
   },
   "outputs": [],
   "source": [
    "########################################################################\n",
    "# 3. Define a Loss function and optimizer\n",
    "# ^^^^^^^^^^^^^^^^^^^^^^^^^^^^^^^^^^^^^^^\n",
    "# Let's use a Classification Cross-Entropy loss and SGD with momentum.\n",
    "\n",
    "import torch.optim as optim\n",
    "\n",
    "criterion = nn.CrossEntropyLoss()\n",
    "optimizer = optim.SGD(net.parameters(), lr=0.001, momentum=0.9, weight_decay=5e-4)"
   ]
  },
  {
   "cell_type": "code",
   "execution_count": 11,
   "metadata": {
    "colab": {
     "base_uri": "https://localhost:8080/",
     "height": 208
    },
    "colab_type": "code",
    "id": "ynBVu_lvlB8D",
    "outputId": "ddf1e1d6-7a5d-44c9-f66d-a594818a3ecc"
   },
   "outputs": [
    {
     "name": "stdout",
     "output_type": "stream",
     "text": [
      "Net(\n",
      "  (conv1): Conv2d(3, 6, kernel_size=(5, 5), stride=(1, 1))\n",
      "  (dropout1): Dropout(p=0.15, inplace=False)\n",
      "  (conv2): Conv2d(6, 10, kernel_size=(5, 5), stride=(1, 1))\n",
      "  (conv3): Conv2d(10, 16, kernel_size=(5, 5), stride=(1, 1))\n",
      "  (dropout3): Dropout(p=0.25, inplace=False)\n",
      "  (fc1): Linear(in_features=6400, out_features=450, bias=True)\n",
      "  (dropout4): Dropout(p=0.25, inplace=False)\n",
      "  (fc2): Linear(in_features=450, out_features=150, bias=True)\n",
      "  (dropout5): Dropout(p=0.15, inplace=False)\n",
      "  (fc3): Linear(in_features=150, out_features=10, bias=True)\n",
      ")\n"
     ]
    }
   ],
   "source": [
    "print(net)"
   ]
  },
  {
   "cell_type": "code",
   "execution_count": 12,
   "metadata": {
    "colab": {
     "base_uri": "https://localhost:8080/",
     "height": 34
    },
    "colab_type": "code",
    "id": "NEpfS6QEoN1s",
    "outputId": "caab946d-724f-4eb7-cfbf-7411ff6a1069"
   },
   "outputs": [
    {
     "name": "stdout",
     "output_type": "stream",
     "text": [
      "2955592\n"
     ]
    }
   ],
   "source": [
    "param1 = get_n_params(net)\n",
    "print(param1)"
   ]
  },
  {
   "cell_type": "code",
   "execution_count": 13,
   "metadata": {
    "colab": {
     "base_uri": "https://localhost:8080/",
     "height": 1000
    },
    "colab_type": "code",
    "id": "1abwz-U5qsgf",
    "outputId": "6479b380-3868-46d8-dabe-c1a9000f712c"
   },
   "outputs": [
    {
     "name": "stdout",
     "output_type": "stream",
     "text": [
      "[1,  2000] loss: 2.162\n",
      "[1,  4000] loss: 1.941\n",
      "[1,  6000] loss: 1.830\n",
      "[1,  8000] loss: 1.758\n",
      "[1, 10000] loss: 1.735\n",
      "[1, 12000] loss: 1.692\n",
      "[1, 14000] loss: 1.656\n",
      "[1, 16000] loss: 1.629\n",
      "[1, 18000] loss: 1.611\n",
      "[1, 20000] loss: 1.561\n",
      "[1, 22000] loss: 1.557\n",
      "[1, 24000] loss: 1.560\n",
      "[2,  2000] loss: 1.502\n",
      "[2,  4000] loss: 1.478\n",
      "[2,  6000] loss: 1.478\n",
      "[2,  8000] loss: 1.450\n",
      "[2, 10000] loss: 1.444\n",
      "[2, 12000] loss: 1.434\n",
      "[2, 14000] loss: 1.423\n",
      "[2, 16000] loss: 1.394\n",
      "[2, 18000] loss: 1.397\n",
      "[2, 20000] loss: 1.397\n",
      "[2, 22000] loss: 1.364\n",
      "[2, 24000] loss: 1.387\n",
      "[3,  2000] loss: 1.345\n",
      "[3,  4000] loss: 1.316\n",
      "[3,  6000] loss: 1.317\n",
      "[3,  8000] loss: 1.305\n",
      "[3, 10000] loss: 1.306\n",
      "[3, 12000] loss: 1.302\n",
      "[3, 14000] loss: 1.289\n",
      "[3, 16000] loss: 1.306\n",
      "[3, 18000] loss: 1.264\n",
      "[3, 20000] loss: 1.238\n",
      "[3, 22000] loss: 1.263\n",
      "[3, 24000] loss: 1.260\n",
      "[4,  2000] loss: 1.206\n",
      "[4,  4000] loss: 1.228\n",
      "[4,  6000] loss: 1.213\n",
      "[4,  8000] loss: 1.217\n",
      "[4, 10000] loss: 1.211\n",
      "[4, 12000] loss: 1.188\n",
      "[4, 14000] loss: 1.192\n",
      "[4, 16000] loss: 1.210\n",
      "[4, 18000] loss: 1.207\n",
      "[4, 20000] loss: 1.195\n",
      "[4, 22000] loss: 1.171\n",
      "[4, 24000] loss: 1.189\n",
      "[5,  2000] loss: 1.140\n",
      "[5,  4000] loss: 1.161\n",
      "[5,  6000] loss: 1.142\n",
      "[5,  8000] loss: 1.153\n",
      "[5, 10000] loss: 1.125\n",
      "[5, 12000] loss: 1.141\n",
      "[5, 14000] loss: 1.154\n",
      "[5, 16000] loss: 1.144\n",
      "[5, 18000] loss: 1.141\n",
      "[5, 20000] loss: 1.132\n",
      "[5, 22000] loss: 1.127\n",
      "[5, 24000] loss: 1.131\n",
      "[6,  2000] loss: 1.093\n",
      "[6,  4000] loss: 1.096\n",
      "[6,  6000] loss: 1.091\n",
      "[6,  8000] loss: 1.110\n",
      "[6, 10000] loss: 1.104\n",
      "[6, 12000] loss: 1.086\n",
      "[6, 14000] loss: 1.086\n",
      "[6, 16000] loss: 1.107\n",
      "[6, 18000] loss: 1.090\n",
      "[6, 20000] loss: 1.111\n",
      "[6, 22000] loss: 1.115\n",
      "[6, 24000] loss: 1.093\n",
      "[7,  2000] loss: 1.061\n",
      "[7,  4000] loss: 1.036\n",
      "[7,  6000] loss: 1.059\n",
      "[7,  8000] loss: 1.063\n",
      "[7, 10000] loss: 1.058\n",
      "[7, 12000] loss: 1.068\n",
      "[7, 14000] loss: 1.059\n",
      "[7, 16000] loss: 1.045\n",
      "[7, 18000] loss: 1.091\n",
      "[7, 20000] loss: 1.054\n",
      "[7, 22000] loss: 1.083\n",
      "[7, 24000] loss: 1.076\n",
      "[8,  2000] loss: 1.015\n",
      "[8,  4000] loss: 1.038\n",
      "[8,  6000] loss: 1.048\n",
      "[8,  8000] loss: 1.040\n",
      "[8, 10000] loss: 1.031\n",
      "[8, 12000] loss: 1.037\n",
      "[8, 14000] loss: 1.036\n",
      "[8, 16000] loss: 1.043\n",
      "[8, 18000] loss: 1.030\n",
      "[8, 20000] loss: 1.045\n",
      "[8, 22000] loss: 1.030\n",
      "[8, 24000] loss: 1.049\n",
      "[9,  2000] loss: 0.976\n",
      "[9,  4000] loss: 1.012\n",
      "[9,  6000] loss: 1.013\n",
      "[9,  8000] loss: 1.002\n",
      "[9, 10000] loss: 1.009\n",
      "[9, 12000] loss: 1.030\n",
      "[9, 14000] loss: 1.012\n",
      "[9, 16000] loss: 1.020\n",
      "[9, 18000] loss: 1.042\n",
      "[9, 20000] loss: 1.016\n",
      "[9, 22000] loss: 1.005\n",
      "[9, 24000] loss: 1.022\n",
      "[10,  2000] loss: 0.975\n",
      "[10,  4000] loss: 0.977\n",
      "[10,  6000] loss: 0.990\n",
      "[10,  8000] loss: 0.976\n",
      "[10, 10000] loss: 0.995\n",
      "[10, 12000] loss: 1.014\n",
      "[10, 14000] loss: 1.010\n",
      "[10, 16000] loss: 1.001\n",
      "[10, 18000] loss: 0.996\n",
      "[10, 20000] loss: 0.984\n",
      "[10, 22000] loss: 1.021\n",
      "[10, 24000] loss: 1.022\n",
      "[11,  2000] loss: 0.973\n",
      "[11,  4000] loss: 0.953\n",
      "[11,  6000] loss: 0.956\n",
      "[11,  8000] loss: 0.977\n",
      "[11, 10000] loss: 0.970\n",
      "[11, 12000] loss: 0.977\n",
      "[11, 14000] loss: 0.979\n",
      "[11, 16000] loss: 0.957\n",
      "[11, 18000] loss: 0.997\n",
      "[11, 20000] loss: 0.989\n",
      "[11, 22000] loss: 0.976\n",
      "[11, 24000] loss: 0.990\n",
      "[12,  2000] loss: 0.930\n",
      "[12,  4000] loss: 0.956\n",
      "[12,  6000] loss: 0.971\n",
      "[12,  8000] loss: 0.961\n",
      "[12, 10000] loss: 0.968\n",
      "[12, 12000] loss: 0.973\n",
      "[12, 14000] loss: 0.961\n",
      "[12, 16000] loss: 0.966\n",
      "[12, 18000] loss: 0.970\n",
      "[12, 20000] loss: 0.990\n",
      "[12, 22000] loss: 0.979\n",
      "[12, 24000] loss: 0.995\n",
      "[13,  2000] loss: 0.912\n",
      "[13,  4000] loss: 0.934\n",
      "[13,  6000] loss: 0.959\n",
      "[13,  8000] loss: 0.942\n",
      "[13, 10000] loss: 0.970\n",
      "[13, 12000] loss: 0.950\n",
      "[13, 14000] loss: 0.952\n",
      "[13, 16000] loss: 0.972\n",
      "[13, 18000] loss: 0.952\n",
      "[13, 20000] loss: 0.954\n",
      "[13, 22000] loss: 0.938\n",
      "[13, 24000] loss: 0.978\n",
      "[14,  2000] loss: 0.918\n",
      "[14,  4000] loss: 0.921\n",
      "[14,  6000] loss: 0.957\n",
      "[14,  8000] loss: 0.947\n",
      "[14, 10000] loss: 0.943\n",
      "[14, 12000] loss: 0.941\n",
      "[14, 14000] loss: 0.943\n",
      "[14, 16000] loss: 0.943\n",
      "[14, 18000] loss: 0.943\n",
      "[14, 20000] loss: 0.973\n",
      "[14, 22000] loss: 0.955\n",
      "[14, 24000] loss: 0.970\n",
      "[15,  2000] loss: 0.931\n",
      "[15,  4000] loss: 0.907\n",
      "[15,  6000] loss: 0.903\n",
      "[15,  8000] loss: 0.945\n",
      "[15, 10000] loss: 0.941\n",
      "[15, 12000] loss: 0.941\n",
      "[15, 14000] loss: 0.946\n",
      "[15, 16000] loss: 0.943\n",
      "[15, 18000] loss: 0.949\n",
      "[15, 20000] loss: 0.937\n",
      "[15, 22000] loss: 0.955\n",
      "[15, 24000] loss: 0.958\n",
      "[16,  2000] loss: 0.910\n",
      "[16,  4000] loss: 0.899\n",
      "[16,  6000] loss: 0.915\n",
      "[16,  8000] loss: 0.904\n",
      "[16, 10000] loss: 0.929\n",
      "[16, 12000] loss: 0.914\n",
      "[16, 14000] loss: 0.933\n",
      "[16, 16000] loss: 0.969\n",
      "[16, 18000] loss: 0.949\n",
      "[16, 20000] loss: 0.941\n",
      "[16, 22000] loss: 0.956\n",
      "[16, 24000] loss: 0.962\n",
      "[17,  2000] loss: 0.898\n",
      "[17,  4000] loss: 0.916\n",
      "[17,  6000] loss: 0.920\n",
      "[17,  8000] loss: 0.892\n",
      "[17, 10000] loss: 0.905\n",
      "[17, 12000] loss: 0.922\n",
      "[17, 14000] loss: 0.927\n",
      "[17, 16000] loss: 0.932\n",
      "[17, 18000] loss: 0.961\n",
      "[17, 20000] loss: 0.938\n",
      "[17, 22000] loss: 0.919\n",
      "[17, 24000] loss: 0.937\n",
      "[18,  2000] loss: 0.877\n",
      "[18,  4000] loss: 0.901\n",
      "[18,  6000] loss: 0.906\n",
      "[18,  8000] loss: 0.914\n",
      "[18, 10000] loss: 0.882\n",
      "[18, 12000] loss: 0.921\n",
      "[18, 14000] loss: 0.937\n",
      "[18, 16000] loss: 0.938\n",
      "[18, 18000] loss: 0.914\n",
      "[18, 20000] loss: 0.923\n",
      "[18, 22000] loss: 0.934\n",
      "[18, 24000] loss: 0.946\n",
      "[19,  2000] loss: 0.900\n",
      "[19,  4000] loss: 0.888\n",
      "[19,  6000] loss: 0.906\n",
      "[19,  8000] loss: 0.868\n",
      "[19, 10000] loss: 0.919\n",
      "[19, 12000] loss: 0.911\n",
      "[19, 14000] loss: 0.913\n",
      "[19, 16000] loss: 0.940\n",
      "[19, 18000] loss: 0.913\n",
      "[19, 20000] loss: 0.919\n",
      "[19, 22000] loss: 0.909\n",
      "[19, 24000] loss: 0.935\n",
      "[20,  2000] loss: 0.898\n",
      "[20,  4000] loss: 0.890\n",
      "[20,  6000] loss: 0.894\n",
      "[20,  8000] loss: 0.879\n",
      "[20, 10000] loss: 0.893\n",
      "[20, 12000] loss: 0.895\n",
      "[20, 14000] loss: 0.893\n",
      "[20, 16000] loss: 0.905\n",
      "[20, 18000] loss: 0.918\n",
      "[20, 20000] loss: 0.923\n",
      "[20, 22000] loss: 0.915\n",
      "[20, 24000] loss: 0.904\n",
      "[21,  2000] loss: 0.876\n",
      "[21,  4000] loss: 0.862\n",
      "[21,  6000] loss: 0.887\n",
      "[21,  8000] loss: 0.888\n",
      "[21, 10000] loss: 0.907\n",
      "[21, 12000] loss: 0.923\n",
      "[21, 14000] loss: 0.901\n",
      "[21, 16000] loss: 0.904\n",
      "[21, 18000] loss: 0.913\n",
      "[21, 20000] loss: 0.895\n",
      "[21, 22000] loss: 0.925\n",
      "[21, 24000] loss: 0.919\n",
      "[22,  2000] loss: 0.866\n",
      "[22,  4000] loss: 0.873\n",
      "[22,  6000] loss: 0.880\n",
      "[22,  8000] loss: 0.903\n",
      "[22, 10000] loss: 0.884\n",
      "[22, 12000] loss: 0.894\n",
      "[22, 14000] loss: 0.896\n",
      "[22, 16000] loss: 0.925\n",
      "[22, 18000] loss: 0.898\n",
      "[22, 20000] loss: 0.913\n",
      "[22, 22000] loss: 0.905\n",
      "[22, 24000] loss: 0.910\n",
      "[23,  2000] loss: 0.856\n",
      "[23,  4000] loss: 0.878\n",
      "[23,  6000] loss: 0.866\n",
      "[23,  8000] loss: 0.890\n",
      "[23, 10000] loss: 0.902\n",
      "[23, 12000] loss: 0.880\n",
      "[23, 14000] loss: 0.891\n",
      "[23, 16000] loss: 0.880\n",
      "[23, 18000] loss: 0.911\n",
      "[23, 20000] loss: 0.902\n",
      "[23, 22000] loss: 0.910\n",
      "[23, 24000] loss: 0.900\n",
      "[24,  2000] loss: 0.871\n",
      "[24,  4000] loss: 0.852\n",
      "[24,  6000] loss: 0.887\n",
      "[24,  8000] loss: 0.859\n",
      "[24, 10000] loss: 0.887\n",
      "[24, 12000] loss: 0.888\n",
      "[24, 14000] loss: 0.896\n",
      "[24, 16000] loss: 0.913\n",
      "[24, 18000] loss: 0.913\n",
      "[24, 20000] loss: 0.896\n",
      "[24, 22000] loss: 0.893\n",
      "[24, 24000] loss: 0.913\n",
      "[25,  2000] loss: 0.861\n",
      "[25,  4000] loss: 0.881\n",
      "[25,  6000] loss: 0.875\n",
      "[25,  8000] loss: 0.884\n",
      "[25, 10000] loss: 0.889\n",
      "[25, 12000] loss: 0.877\n",
      "[25, 14000] loss: 0.906\n",
      "[25, 16000] loss: 0.887\n",
      "[25, 18000] loss: 0.890\n",
      "[25, 20000] loss: 0.897\n",
      "[25, 22000] loss: 0.901\n",
      "[25, 24000] loss: 0.885\n",
      "[26,  2000] loss: 0.883\n",
      "[26,  4000] loss: 0.872\n",
      "[26,  6000] loss: 0.874\n",
      "[26,  8000] loss: 0.884\n",
      "[26, 10000] loss: 0.878\n",
      "[26, 12000] loss: 0.868\n",
      "[26, 14000] loss: 0.882\n",
      "[26, 16000] loss: 0.896\n",
      "[26, 18000] loss: 0.899\n",
      "[26, 20000] loss: 0.909\n",
      "[26, 22000] loss: 0.888\n",
      "[26, 24000] loss: 0.913\n",
      "[27,  2000] loss: 0.861\n",
      "[27,  4000] loss: 0.857\n",
      "[27,  6000] loss: 0.879\n",
      "[27,  8000] loss: 0.901\n",
      "[27, 10000] loss: 0.897\n",
      "[27, 12000] loss: 0.896\n",
      "[27, 14000] loss: 0.879\n",
      "[27, 16000] loss: 0.894\n",
      "[27, 18000] loss: 0.894\n",
      "[27, 20000] loss: 0.902\n",
      "[27, 22000] loss: 0.882\n",
      "[27, 24000] loss: 0.882\n",
      "[28,  2000] loss: 0.851\n",
      "[28,  4000] loss: 0.853\n",
      "[28,  6000] loss: 0.868\n",
      "[28,  8000] loss: 0.882\n",
      "[28, 10000] loss: 0.885\n",
      "[28, 12000] loss: 0.881\n",
      "[28, 14000] loss: 0.880\n",
      "[28, 16000] loss: 0.876\n",
      "[28, 18000] loss: 0.889\n",
      "[28, 20000] loss: 0.887\n",
      "[28, 22000] loss: 0.897\n",
      "[28, 24000] loss: 0.904\n",
      "[29,  2000] loss: 0.877\n",
      "[29,  4000] loss: 0.857\n",
      "[29,  6000] loss: 0.864\n",
      "[29,  8000] loss: 0.879\n",
      "[29, 10000] loss: 0.869\n",
      "[29, 12000] loss: 0.883\n",
      "[29, 14000] loss: 0.873\n",
      "[29, 16000] loss: 0.872\n",
      "[29, 18000] loss: 0.880\n",
      "[29, 20000] loss: 0.892\n"
     ]
    },
    {
     "name": "stdout",
     "output_type": "stream",
     "text": [
      "[29, 22000] loss: 0.902\n",
      "[29, 24000] loss: 0.876\n",
      "[30,  2000] loss: 0.854\n",
      "[30,  4000] loss: 0.870\n",
      "[30,  6000] loss: 0.849\n",
      "[30,  8000] loss: 0.859\n",
      "[30, 10000] loss: 0.887\n",
      "[30, 12000] loss: 0.855\n",
      "[30, 14000] loss: 0.892\n",
      "[30, 16000] loss: 0.879\n",
      "[30, 18000] loss: 0.880\n",
      "[30, 20000] loss: 0.869\n",
      "[30, 22000] loss: 0.878\n",
      "[30, 24000] loss: 0.900\n",
      "[31,  2000] loss: 0.832\n",
      "[31,  4000] loss: 0.857\n",
      "[31,  6000] loss: 0.868\n",
      "[31,  8000] loss: 0.865\n",
      "[31, 10000] loss: 0.852\n",
      "[31, 12000] loss: 0.881\n",
      "[31, 14000] loss: 0.895\n",
      "[31, 16000] loss: 0.872\n",
      "[31, 18000] loss: 0.897\n",
      "[31, 20000] loss: 0.871\n",
      "[31, 22000] loss: 0.880\n",
      "[31, 24000] loss: 0.908\n",
      "[32,  2000] loss: 0.835\n",
      "[32,  4000] loss: 0.868\n",
      "[32,  6000] loss: 0.868\n",
      "[32,  8000] loss: 0.853\n",
      "[32, 10000] loss: 0.854\n",
      "[32, 12000] loss: 0.837\n",
      "[32, 14000] loss: 0.873\n",
      "[32, 16000] loss: 0.870\n",
      "[32, 18000] loss: 0.886\n",
      "[32, 20000] loss: 0.879\n",
      "[32, 22000] loss: 0.880\n",
      "[32, 24000] loss: 0.887\n",
      "[33,  2000] loss: 0.836\n",
      "[33,  4000] loss: 0.820\n",
      "[33,  6000] loss: 0.839\n",
      "[33,  8000] loss: 0.883\n",
      "[33, 10000] loss: 0.858\n",
      "[33, 12000] loss: 0.886\n",
      "[33, 14000] loss: 0.876\n",
      "[33, 16000] loss: 0.890\n",
      "[33, 18000] loss: 0.888\n",
      "[33, 20000] loss: 0.851\n",
      "[33, 22000] loss: 0.896\n",
      "[33, 24000] loss: 0.896\n",
      "[34,  2000] loss: 0.842\n",
      "[34,  4000] loss: 0.843\n",
      "[34,  6000] loss: 0.843\n",
      "[34,  8000] loss: 0.868\n",
      "[34, 10000] loss: 0.855\n",
      "[34, 12000] loss: 0.877\n",
      "[34, 14000] loss: 0.881\n",
      "[34, 16000] loss: 0.860\n",
      "[34, 18000] loss: 0.888\n",
      "[34, 20000] loss: 0.863\n",
      "[34, 22000] loss: 0.893\n",
      "[34, 24000] loss: 0.888\n",
      "[35,  2000] loss: 0.830\n",
      "[35,  4000] loss: 0.830\n",
      "[35,  6000] loss: 0.831\n",
      "[35,  8000] loss: 0.849\n",
      "[35, 10000] loss: 0.840\n",
      "[35, 12000] loss: 0.863\n",
      "[35, 14000] loss: 0.877\n",
      "[35, 16000] loss: 0.876\n",
      "[35, 18000] loss: 0.877\n",
      "[35, 20000] loss: 0.871\n",
      "[35, 22000] loss: 0.899\n",
      "[35, 24000] loss: 0.881\n",
      "[36,  2000] loss: 0.840\n",
      "[36,  4000] loss: 0.837\n",
      "[36,  6000] loss: 0.843\n",
      "[36,  8000] loss: 0.845\n",
      "[36, 10000] loss: 0.860\n",
      "[36, 12000] loss: 0.880\n",
      "[36, 14000] loss: 0.880\n",
      "[36, 16000] loss: 0.879\n",
      "[36, 18000] loss: 0.860\n",
      "[36, 20000] loss: 0.871\n",
      "[36, 22000] loss: 0.868\n",
      "[36, 24000] loss: 0.866\n",
      "[37,  2000] loss: 0.837\n",
      "[37,  4000] loss: 0.836\n",
      "[37,  6000] loss: 0.836\n",
      "[37,  8000] loss: 0.864\n",
      "[37, 10000] loss: 0.855\n",
      "[37, 12000] loss: 0.857\n",
      "[37, 14000] loss: 0.861\n",
      "[37, 16000] loss: 0.876\n",
      "[37, 18000] loss: 0.876\n",
      "[37, 20000] loss: 0.887\n",
      "[37, 22000] loss: 0.881\n",
      "[37, 24000] loss: 0.873\n",
      "[38,  2000] loss: 0.826\n",
      "[38,  4000] loss: 0.840\n",
      "[38,  6000] loss: 0.834\n",
      "[38,  8000] loss: 0.862\n",
      "[38, 10000] loss: 0.866\n",
      "[38, 12000] loss: 0.863\n",
      "[38, 14000] loss: 0.855\n",
      "[38, 16000] loss: 0.872\n",
      "[38, 18000] loss: 0.856\n",
      "[38, 20000] loss: 0.881\n",
      "[38, 22000] loss: 0.883\n",
      "[38, 24000] loss: 0.887\n",
      "[39,  2000] loss: 0.812\n",
      "[39,  4000] loss: 0.834\n",
      "[39,  6000] loss: 0.841\n",
      "[39,  8000] loss: 0.820\n",
      "[39, 10000] loss: 0.848\n",
      "[39, 12000] loss: 0.854\n",
      "[39, 14000] loss: 0.858\n",
      "[39, 16000] loss: 0.863\n",
      "[39, 18000] loss: 0.849\n",
      "[39, 20000] loss: 0.845\n",
      "[39, 22000] loss: 0.865\n",
      "[39, 24000] loss: 0.884\n",
      "[40,  2000] loss: 0.844\n",
      "[40,  4000] loss: 0.837\n",
      "[40,  6000] loss: 0.815\n",
      "[40,  8000] loss: 0.839\n",
      "[40, 10000] loss: 0.868\n",
      "[40, 12000] loss: 0.883\n",
      "[40, 14000] loss: 0.883\n",
      "[40, 16000] loss: 0.848\n",
      "[40, 18000] loss: 0.868\n",
      "[40, 20000] loss: 0.877\n",
      "[40, 22000] loss: 0.861\n",
      "[40, 24000] loss: 0.897\n",
      "[41,  2000] loss: 0.835\n",
      "[41,  4000] loss: 0.808\n",
      "[41,  6000] loss: 0.826\n",
      "[41,  8000] loss: 0.838\n",
      "[41, 10000] loss: 0.827\n",
      "[41, 12000] loss: 0.871\n",
      "[41, 14000] loss: 0.850\n",
      "[41, 16000] loss: 0.867\n",
      "[41, 18000] loss: 0.885\n",
      "[41, 20000] loss: 0.876\n",
      "[41, 22000] loss: 0.839\n",
      "[41, 24000] loss: 0.898\n",
      "[42,  2000] loss: 0.832\n",
      "[42,  4000] loss: 0.848\n",
      "[42,  6000] loss: 0.854\n",
      "[42,  8000] loss: 0.861\n",
      "[42, 10000] loss: 0.839\n",
      "[42, 12000] loss: 0.877\n",
      "[42, 14000] loss: 0.859\n",
      "[42, 16000] loss: 0.852\n",
      "[42, 18000] loss: 0.858\n",
      "[42, 20000] loss: 0.860\n",
      "[42, 22000] loss: 0.895\n",
      "[42, 24000] loss: 0.881\n",
      "[43,  2000] loss: 0.819\n",
      "[43,  4000] loss: 0.839\n",
      "[43,  6000] loss: 0.831\n",
      "[43,  8000] loss: 0.845\n",
      "[43, 10000] loss: 0.848\n",
      "[43, 12000] loss: 0.852\n",
      "[43, 14000] loss: 0.870\n",
      "[43, 16000] loss: 0.872\n",
      "[43, 18000] loss: 0.854\n",
      "[43, 20000] loss: 0.872\n",
      "[43, 22000] loss: 0.862\n",
      "[43, 24000] loss: 0.861\n",
      "[44,  2000] loss: 0.847\n",
      "[44,  4000] loss: 0.843\n",
      "[44,  6000] loss: 0.838\n",
      "[44,  8000] loss: 0.838\n",
      "[44, 10000] loss: 0.838\n",
      "[44, 12000] loss: 0.833\n",
      "[44, 14000] loss: 0.841\n",
      "[44, 16000] loss: 0.863\n",
      "[44, 18000] loss: 0.860\n",
      "[44, 20000] loss: 0.873\n",
      "[44, 22000] loss: 0.862\n",
      "[44, 24000] loss: 0.871\n",
      "[45,  2000] loss: 0.825\n",
      "[45,  4000] loss: 0.846\n",
      "[45,  6000] loss: 0.837\n",
      "[45,  8000] loss: 0.816\n",
      "[45, 10000] loss: 0.835\n",
      "[45, 12000] loss: 0.856\n",
      "[45, 14000] loss: 0.856\n",
      "[45, 16000] loss: 0.842\n",
      "[45, 18000] loss: 0.854\n",
      "[45, 20000] loss: 0.843\n",
      "[45, 22000] loss: 0.872\n",
      "[45, 24000] loss: 0.883\n",
      "[46,  2000] loss: 0.825\n",
      "[46,  4000] loss: 0.809\n",
      "[46,  6000] loss: 0.841\n",
      "[46,  8000] loss: 0.832\n",
      "[46, 10000] loss: 0.838\n",
      "[46, 12000] loss: 0.817\n",
      "[46, 14000] loss: 0.851\n",
      "[46, 16000] loss: 0.856\n",
      "[46, 18000] loss: 0.866\n",
      "[46, 20000] loss: 0.842\n",
      "[46, 22000] loss: 0.858\n",
      "[46, 24000] loss: 0.892\n",
      "[47,  2000] loss: 0.841\n",
      "[47,  4000] loss: 0.847\n",
      "[47,  6000] loss: 0.823\n",
      "[47,  8000] loss: 0.826\n",
      "[47, 10000] loss: 0.839\n",
      "[47, 12000] loss: 0.848\n",
      "[47, 14000] loss: 0.858\n",
      "[47, 16000] loss: 0.850\n",
      "[47, 18000] loss: 0.867\n",
      "[47, 20000] loss: 0.840\n",
      "[47, 22000] loss: 0.871\n",
      "[47, 24000] loss: 0.861\n",
      "[48,  2000] loss: 0.846\n",
      "[48,  4000] loss: 0.835\n",
      "[48,  6000] loss: 0.843\n",
      "[48,  8000] loss: 0.846\n",
      "[48, 10000] loss: 0.827\n",
      "[48, 12000] loss: 0.860\n",
      "[48, 14000] loss: 0.870\n",
      "[48, 16000] loss: 0.853\n",
      "[48, 18000] loss: 0.868\n",
      "[48, 20000] loss: 0.872\n",
      "[48, 22000] loss: 0.858\n",
      "[48, 24000] loss: 0.859\n",
      "[49,  2000] loss: 0.829\n",
      "[49,  4000] loss: 0.809\n",
      "[49,  6000] loss: 0.838\n",
      "[49,  8000] loss: 0.843\n",
      "[49, 10000] loss: 0.836\n",
      "[49, 12000] loss: 0.850\n",
      "[49, 14000] loss: 0.848\n",
      "[49, 16000] loss: 0.833\n",
      "[49, 18000] loss: 0.853\n",
      "[49, 20000] loss: 0.853\n",
      "[49, 22000] loss: 0.869\n",
      "[49, 24000] loss: 0.856\n",
      "[50,  2000] loss: 0.810\n",
      "[50,  4000] loss: 0.818\n",
      "[50,  6000] loss: 0.834\n",
      "[50,  8000] loss: 0.846\n",
      "[50, 10000] loss: 0.851\n",
      "[50, 12000] loss: 0.825\n",
      "[50, 14000] loss: 0.849\n",
      "[50, 16000] loss: 0.855\n",
      "[50, 18000] loss: 0.858\n",
      "[50, 20000] loss: 0.859\n",
      "[50, 22000] loss: 0.874\n",
      "[50, 24000] loss: 0.841\n",
      "[51,  2000] loss: 0.798\n",
      "[51,  4000] loss: 0.812\n",
      "[51,  6000] loss: 0.844\n",
      "[51,  8000] loss: 0.849\n",
      "[51, 10000] loss: 0.839\n",
      "[51, 12000] loss: 0.858\n",
      "[51, 14000] loss: 0.829\n",
      "[51, 16000] loss: 0.854\n",
      "[51, 18000] loss: 0.855\n",
      "[51, 20000] loss: 0.871\n",
      "[51, 22000] loss: 0.848\n",
      "[51, 24000] loss: 0.888\n",
      "[52,  2000] loss: 0.807\n",
      "[52,  4000] loss: 0.825\n",
      "[52,  6000] loss: 0.836\n",
      "[52,  8000] loss: 0.828\n",
      "[52, 10000] loss: 0.837\n",
      "[52, 12000] loss: 0.834\n",
      "[52, 14000] loss: 0.846\n",
      "[52, 16000] loss: 0.848\n",
      "[52, 18000] loss: 0.880\n",
      "[52, 20000] loss: 0.871\n",
      "[52, 22000] loss: 0.877\n",
      "[52, 24000] loss: 0.860\n",
      "[53,  2000] loss: 0.803\n",
      "[53,  4000] loss: 0.836\n",
      "[53,  6000] loss: 0.815\n",
      "[53,  8000] loss: 0.831\n",
      "[53, 10000] loss: 0.834\n",
      "[53, 12000] loss: 0.842\n",
      "[53, 14000] loss: 0.866\n"
     ]
    },
    {
     "ename": "KeyboardInterrupt",
     "evalue": "",
     "output_type": "error",
     "traceback": [
      "\u001b[0;31m---------------------------------------------------------------------------\u001b[0m",
      "\u001b[0;31mKeyboardInterrupt\u001b[0m                         Traceback (most recent call last)",
      "\u001b[0;32m<ipython-input-13-f66fa40f4754>\u001b[0m in \u001b[0;36m<module>\u001b[0;34m\u001b[0m\n\u001b[1;32m     21\u001b[0m         \u001b[0moutputs\u001b[0m \u001b[0;34m=\u001b[0m \u001b[0mnet\u001b[0m\u001b[0;34m(\u001b[0m\u001b[0minputs\u001b[0m\u001b[0;34m)\u001b[0m\u001b[0;34m\u001b[0m\u001b[0m\n\u001b[1;32m     22\u001b[0m         \u001b[0mloss\u001b[0m \u001b[0;34m=\u001b[0m \u001b[0mcriterion\u001b[0m\u001b[0;34m(\u001b[0m\u001b[0moutputs\u001b[0m\u001b[0;34m,\u001b[0m \u001b[0mlabels\u001b[0m\u001b[0;34m)\u001b[0m\u001b[0;34m\u001b[0m\u001b[0m\n\u001b[0;32m---> 23\u001b[0;31m         \u001b[0mloss\u001b[0m\u001b[0;34m.\u001b[0m\u001b[0mbackward\u001b[0m\u001b[0;34m(\u001b[0m\u001b[0;34m)\u001b[0m\u001b[0;34m\u001b[0m\u001b[0m\n\u001b[0m\u001b[1;32m     24\u001b[0m         \u001b[0moptimizer\u001b[0m\u001b[0;34m.\u001b[0m\u001b[0mstep\u001b[0m\u001b[0;34m(\u001b[0m\u001b[0;34m)\u001b[0m\u001b[0;34m\u001b[0m\u001b[0m\n\u001b[1;32m     25\u001b[0m \u001b[0;34m\u001b[0m\u001b[0m\n",
      "\u001b[0;32m~/.virtualenvs/akash_py3/lib/python3.5/site-packages/torch/tensor.py\u001b[0m in \u001b[0;36mbackward\u001b[0;34m(self, gradient, retain_graph, create_graph)\u001b[0m\n\u001b[1;32m    193\u001b[0m                 \u001b[0mproducts\u001b[0m\u001b[0;34m.\u001b[0m \u001b[0mDefaults\u001b[0m \u001b[0mto\u001b[0m\u001b[0;31m \u001b[0m\u001b[0;31m`\u001b[0m\u001b[0;31m`\u001b[0m\u001b[0;32mFalse\u001b[0m\u001b[0;31m`\u001b[0m\u001b[0;31m`\u001b[0m\u001b[0;34m.\u001b[0m\u001b[0;34m\u001b[0m\u001b[0m\n\u001b[1;32m    194\u001b[0m         \"\"\"\n\u001b[0;32m--> 195\u001b[0;31m         \u001b[0mtorch\u001b[0m\u001b[0;34m.\u001b[0m\u001b[0mautograd\u001b[0m\u001b[0;34m.\u001b[0m\u001b[0mbackward\u001b[0m\u001b[0;34m(\u001b[0m\u001b[0mself\u001b[0m\u001b[0;34m,\u001b[0m \u001b[0mgradient\u001b[0m\u001b[0;34m,\u001b[0m \u001b[0mretain_graph\u001b[0m\u001b[0;34m,\u001b[0m \u001b[0mcreate_graph\u001b[0m\u001b[0;34m)\u001b[0m\u001b[0;34m\u001b[0m\u001b[0m\n\u001b[0m\u001b[1;32m    196\u001b[0m \u001b[0;34m\u001b[0m\u001b[0m\n\u001b[1;32m    197\u001b[0m     \u001b[0;32mdef\u001b[0m \u001b[0mregister_hook\u001b[0m\u001b[0;34m(\u001b[0m\u001b[0mself\u001b[0m\u001b[0;34m,\u001b[0m \u001b[0mhook\u001b[0m\u001b[0;34m)\u001b[0m\u001b[0;34m:\u001b[0m\u001b[0;34m\u001b[0m\u001b[0m\n",
      "\u001b[0;32m~/.virtualenvs/akash_py3/lib/python3.5/site-packages/torch/autograd/__init__.py\u001b[0m in \u001b[0;36mbackward\u001b[0;34m(tensors, grad_tensors, retain_graph, create_graph, grad_variables)\u001b[0m\n\u001b[1;32m     97\u001b[0m     Variable._execution_engine.run_backward(\n\u001b[1;32m     98\u001b[0m         \u001b[0mtensors\u001b[0m\u001b[0;34m,\u001b[0m \u001b[0mgrad_tensors\u001b[0m\u001b[0;34m,\u001b[0m \u001b[0mretain_graph\u001b[0m\u001b[0;34m,\u001b[0m \u001b[0mcreate_graph\u001b[0m\u001b[0;34m,\u001b[0m\u001b[0;34m\u001b[0m\u001b[0m\n\u001b[0;32m---> 99\u001b[0;31m         allow_unreachable=True)  # allow_unreachable flag\n\u001b[0m\u001b[1;32m    100\u001b[0m \u001b[0;34m\u001b[0m\u001b[0m\n\u001b[1;32m    101\u001b[0m \u001b[0;34m\u001b[0m\u001b[0m\n",
      "\u001b[0;31mKeyboardInterrupt\u001b[0m: "
     ]
    }
   ],
   "source": [
    "########################################################################\n",
    "# 4. Train the network\n",
    "# ^^^^^^^^^^^^^^^^^^^^\n",
    "#\n",
    "# This is when things start to get interesting.\n",
    "# We simply have to loop over our data iterator, and feed the inputs to the\n",
    "# network and optimize.\n",
    "lossy_loss = []\n",
    "for epoch in range(100):  # loop over the dataset multiple times\n",
    "    loss_values = []\n",
    "    running_loss = 0.0\n",
    "    for i, data in enumerate(trainloader, 0):\n",
    "        # get the inputs; data is a list of [inputs, labels]\n",
    "        inputs, labels = data\n",
    "        inputs, labels = inputs.cuda(), labels.cuda() # add this line\n",
    "\n",
    "        # zero the parameter gradients\n",
    "        optimizer.zero_grad()\n",
    "\n",
    "        # forward + backward + optimize\n",
    "        outputs = net(inputs)\n",
    "        loss = criterion(outputs, labels)\n",
    "        loss.backward()\n",
    "        optimizer.step()\n",
    "\n",
    "        # print statistics\n",
    "        running_loss += loss.item()\n",
    "        if i % 2000 == 1999:    # print every 2000 mini-batches\n",
    "            print('[%d, %5d] loss: %.3f' %\n",
    "                  (epoch + 1, i + 1, running_loss / 2000))\n",
    "            loss_values.append(running_loss / 2000)\n",
    "            running_loss = 0.0\n",
    "    \n",
    "    lossy_loss.append(np.mean(np.array(loss_values)))\n",
    "\n",
    "print('Finished Training') "
   ]
  },
  {
   "cell_type": "code",
   "execution_count": 14,
   "metadata": {
    "colab": {
     "base_uri": "https://localhost:8080/",
     "height": 312
    },
    "colab_type": "code",
    "id": "8u5LwEkINuM9",
    "outputId": "5659b6c4-cb99-4707-837a-57f7f5473db4"
   },
   "outputs": [
    {
     "data": {
      "text/plain": [
       "Text(0.5, 1.0, 'Loss History vs # of Epochs')"
      ]
     },
     "execution_count": 14,
     "metadata": {},
     "output_type": "execute_result"
    },
    {
     "data": {
      "image/png": "[encoded data removed]",
      "text/plain": [
       "<Figure size 432x288 with 1 Axes>"
      ]
     },
     "metadata": {
      "needs_background": "light"
     },
     "output_type": "display_data"
    }
   ],
   "source": [
    "plt.plot(np.array(lossy_loss), 'r')\n",
    "plt.xlabel('# of epochs')\n",
    "plt.ylabel('Loss')\n",
    "plt.title('Loss History vs # of Epochs')"
   ]
  },
  {
   "cell_type": "code",
   "execution_count": 15,
   "metadata": {
    "colab": {},
    "colab_type": "code",
    "id": "HXob9Jdqq2AN"
   },
   "outputs": [],
   "source": [
    "########################################################################\n",
    "# Let's quickly save our trained model:\n",
    "\n",
    "PATH = './cifar_net_dropout_8.pth'\n",
    "torch.save(net.state_dict(), PATH)"
   ]
  },
  {
   "cell_type": "code",
   "execution_count": 16,
   "metadata": {
    "colab": {
     "base_uri": "https://localhost:8080/",
     "height": 34
    },
    "colab_type": "code",
    "id": "H1TUj1blOoB6",
    "outputId": "3eee171f-fb3b-41c5-cd39-500d12d59d6c"
   },
   "outputs": [
    {
     "name": "stdout",
     "output_type": "stream",
     "text": [
      "Accuracy of the network on the 50000 training images: 77 %\n"
     ]
    }
   ],
   "source": [
    "correct = 0\n",
    "total = 0\n",
    "with torch.no_grad():\n",
    "    for data in trainloader:\n",
    "        images, labels = data\n",
    "        images, labels = images.cuda(), labels.cuda() # add this line\n",
    "        net2 = net.eval()\n",
    "        outputs = net2(images)\n",
    "        _, predicted = torch.max(outputs.data, 1)\n",
    "        total += labels.size(0)\n",
    "        correct += (predicted == labels).sum().item()\n",
    "\n",
    "print('Accuracy of the network on the 50000 training images: %d %%' % (\n",
    "    100 * correct / total))"
   ]
  },
  {
   "cell_type": "code",
   "execution_count": 17,
   "metadata": {
    "colab": {
     "base_uri": "https://localhost:8080/",
     "height": 191
    },
    "colab_type": "code",
    "id": "ieTs2agUS19I",
    "outputId": "ae5dfeda-e559-445d-9356-81f12afe8b28"
   },
   "outputs": [
    {
     "name": "stdout",
     "output_type": "stream",
     "text": [
      "Accuracy of plane : 76 %\n",
      "Accuracy of   car : 89 %\n",
      "Accuracy of  bird : 72 %\n",
      "Accuracy of   cat : 60 %\n",
      "Accuracy of  deer : 73 %\n",
      "Accuracy of   dog : 75 %\n",
      "Accuracy of  frog : 79 %\n",
      "Accuracy of horse : 82 %\n",
      "Accuracy of  ship : 86 %\n",
      "Accuracy of truck : 82 %\n"
     ]
    }
   ],
   "source": [
    "class_correct = list(0. for i in range(10))\n",
    "class_total = list(0. for i in range(10))\n",
    "with torch.no_grad():\n",
    "    for data in trainloader:\n",
    "        images, labels = data\n",
    "        images, labels = images.cuda(), labels.cuda() # add this line\n",
    "        outputs = net2(images)\n",
    "        _, predicted = torch.max(outputs, 1)\n",
    "        c = (predicted == labels).squeeze()\n",
    "        for i in range(4):\n",
    "            label = labels[i]\n",
    "            class_correct[label] += c[i].item()\n",
    "            class_total[label] += 1\n",
    "\n",
    "\n",
    "for i in range(10):\n",
    "    print('Accuracy of %5s : %2d %%' % (\n",
    "        classes[i], 100 * class_correct[i] / class_total[i]))"
   ]
  },
  {
   "cell_type": "code",
   "execution_count": 18,
   "metadata": {
    "colab": {
     "base_uri": "https://localhost:8080/",
     "height": 155
    },
    "colab_type": "code",
    "id": "R7mc0ti_rMFE",
    "outputId": "90cec64f-e32a-461c-d5dd-6a0da2c2e8fe"
   },
   "outputs": [
    {
     "data": {
      "image/png": "[encoded data removed]",
      "text/plain": [
       "<Figure size 432x288 with 1 Axes>"
      ]
     },
     "metadata": {
      "needs_background": "light"
     },
     "output_type": "display_data"
    },
    {
     "name": "stdout",
     "output_type": "stream",
     "text": [
      "GroundTruth:    cat  ship  ship plane\n"
     ]
    }
   ],
   "source": [
    "########################################################################\n",
    "# See `here <https://pytorch.org/docs/stable/notes/serialization.html>`_\n",
    "# for more details on saving PyTorch models.\n",
    "#\n",
    "# 5. Test the network on the test data\n",
    "# ^^^^^^^^^^^^^^^^^^^^^^^^^^^^^^^^^^^^\n",
    "#\n",
    "# We have trained the network for 2 passes over the training dataset.\n",
    "# But we need to check if the network has learnt anything at all.\n",
    "#\n",
    "# We will check this by predicting the class label that the neural network\n",
    "# outputs, and checking it against the ground-truth. If the prediction is\n",
    "# correct, we add the sample to the list of correct predictions.\n",
    "#\n",
    "# Okay, first step. Let us display an image from the test set to get familiar.\n",
    "\n",
    "dataiter = iter(testloader)\n",
    "images, labels = dataiter.next()\n",
    "\n",
    "\n",
    "# print images\n",
    "imshow(torchvision.utils.make_grid(images))\n",
    "print('GroundTruth: ', ' '.join('%5s' % classes[labels[j]] for j in range(4)))"
   ]
  },
  {
   "cell_type": "code",
   "execution_count": 19,
   "metadata": {
    "colab": {
     "base_uri": "https://localhost:8080/",
     "height": 34
    },
    "colab_type": "code",
    "id": "DrzCSEAlrOnV",
    "outputId": "5b3e84d6-b197-4daf-bec2-a99fe97b6992"
   },
   "outputs": [
    {
     "data": {
      "text/plain": [
       "<All keys matched successfully>"
      ]
     },
     "execution_count": 19,
     "metadata": {},
     "output_type": "execute_result"
    }
   ],
   "source": [
    "########################################################################\n",
    "# Next, let's load back in our saved model (note: saving and re-loading the model\n",
    "# wasn't necessary here, we only did it to illustrate how to do so):\n",
    "\n",
    "net = Net()\n",
    "net.load_state_dict(torch.load(PATH))"
   ]
  },
  {
   "cell_type": "code",
   "execution_count": 20,
   "metadata": {
    "colab": {},
    "colab_type": "code",
    "id": "isjbm8FErPN-"
   },
   "outputs": [],
   "source": [
    "########################################################################\n",
    "# Okay, now let us see what the neural network thinks these examples above are:\n",
    "\n",
    "outputs = net(images)"
   ]
  },
  {
   "cell_type": "code",
   "execution_count": 21,
   "metadata": {
    "colab": {
     "base_uri": "https://localhost:8080/",
     "height": 34
    },
    "colab_type": "code",
    "id": "t0VtG_GArUVk",
    "outputId": "e2688ea8-86bb-4d7e-fd28-e08b58753c3e"
   },
   "outputs": [
    {
     "name": "stdout",
     "output_type": "stream",
     "text": [
      "Predicted:    cat  ship   car  ship\n"
     ]
    }
   ],
   "source": [
    "########################################################################\n",
    "# The outputs are energies for the 10 classes.\n",
    "# The higher the energy for a class, the more the network\n",
    "# thinks that the image is of the particular class.\n",
    "# So, let's get the index of the highest energy:\n",
    "_, predicted = torch.max(outputs, 1)\n",
    "\n",
    "print('Predicted: ', ' '.join('%5s' % classes[predicted[j]]\n",
    "                              for j in range(4)))"
   ]
  },
  {
   "cell_type": "code",
   "execution_count": 22,
   "metadata": {
    "colab": {
     "base_uri": "https://localhost:8080/",
     "height": 34
    },
    "colab_type": "code",
    "id": "HrKE6hiLrtSc",
    "outputId": "4b8e3529-7a88-4ee2-bc47-7286984e78ff"
   },
   "outputs": [
    {
     "name": "stdout",
     "output_type": "stream",
     "text": [
      "Accuracy of the network on the 10000 test images: 71 %\n"
     ]
    }
   ],
   "source": [
    "\n",
    "########################################################################\n",
    "# The results seem pretty good.\n",
    "#\n",
    "# Let us look at how the network performs on the whole dataset.\n",
    "\n",
    "correct = 0\n",
    "total = 0\n",
    "with torch.no_grad():\n",
    "    for data in testloader:\n",
    "        images, labels = data\n",
    "        net1 = net.eval()\n",
    "        outputs = net1(images)\n",
    "        _, predicted = torch.max(outputs.data, 1)\n",
    "        total += labels.size(0)\n",
    "        correct += (predicted == labels).sum().item()\n",
    "\n",
    "print('Accuracy of the network on the 10000 test images: %d %%' % (\n",
    "    100 * correct / total))"
   ]
  },
  {
   "cell_type": "code",
   "execution_count": 23,
   "metadata": {
    "colab": {
     "base_uri": "https://localhost:8080/",
     "height": 187
    },
    "colab_type": "code",
    "id": "u2tEUvKZr1Ah",
    "outputId": "ff12252e-7fd8-43d9-c0df-f748bd4e82e2"
   },
   "outputs": [
    {
     "name": "stdout",
     "output_type": "stream",
     "text": [
      "Accuracy of plane : 72 %\n",
      "Accuracy of   car : 86 %\n",
      "Accuracy of  bird : 61 %\n",
      "Accuracy of   cat : 48 %\n",
      "Accuracy of  deer : 65 %\n",
      "Accuracy of   dog : 66 %\n",
      "Accuracy of  frog : 76 %\n",
      "Accuracy of horse : 77 %\n",
      "Accuracy of  ship : 83 %\n",
      "Accuracy of truck : 77 %\n"
     ]
    }
   ],
   "source": [
    "########################################################################\n",
    "# That looks way better than chance, which is 10% accuracy (randomly picking\n",
    "# a class out of 10 classes).\n",
    "# Seems like the network learnt something.\n",
    "#\n",
    "# Hmmm, what are the classes that performed well, and the classes that did\n",
    "# not perform well:\n",
    "\n",
    "class_correct = list(0. for i in range(10))\n",
    "class_total = list(0. for i in range(10))\n",
    "with torch.no_grad():\n",
    "    for data in testloader:\n",
    "        images, labels = data\n",
    "        outputs = net(images)\n",
    "        _, predicted = torch.max(outputs, 1)\n",
    "        c = (predicted == labels).squeeze()\n",
    "        for i in range(4):\n",
    "            label = labels[i]\n",
    "            class_correct[label] += c[i].item()\n",
    "            class_total[label] += 1\n",
    "\n",
    "\n",
    "for i in range(10):\n",
    "    print('Accuracy of %5s : %2d %%' % (\n",
    "        classes[i], 100 * class_correct[i] / class_total[i]))"
   ]
  },
  {
   "cell_type": "code",
   "execution_count": null,
   "metadata": {},
   "outputs": [],
   "source": []
  },
  {
   "cell_type": "code",
   "execution_count": null,
   "metadata": {},
   "outputs": [],
   "source": []
  },
  {
   "cell_type": "code",
   "execution_count": null,
   "metadata": {},
   "outputs": [],
   "source": []
  }
 ],
 "metadata": {
  "accelerator": "GPU",
  "colab": {
   "collapsed_sections": [],
   "name": "DIP_HW3_Dropout",
   "provenance": []
  },
  "kernelspec": {
   "display_name": "Python 3",
   "language": "python",
   "name": "python3"
  },
  "language_info": {
   "codemirror_mode": {
    "name": "ipython",
    "version": 3
   },
   "file_extension": ".py",
   "mimetype": "text/x-python",
   "name": "python",
   "nbconvert_exporter": "python",
   "pygments_lexer": "ipython3",
   "version": "3.7.2"
  },
  "widgets": {
   "application/vnd.jupyter.widget-state+json": {
    "1348d537345248898f5743c7d9a996cf": {
     "model_module": "@jupyter-widgets/base",
     "model_name": "LayoutModel",
     "state": {
      "_model_module": "@jupyter-widgets/base",
      "_model_module_version": "1.2.0",
      "_model_name": "LayoutModel",
      "_view_count": null,
      "_view_module": "@jupyter-widgets/base",
      "_view_module_version": "1.2.0",
      "_view_name": "LayoutView",
      "align_content": null,
      "align_items": null,
      "align_self": null,
      "border": null,
      "bottom": null,
      "display": null,
      "flex": null,
      "flex_flow": null,
      "grid_area": null,
      "grid_auto_columns": null,
      "grid_auto_flow": null,
      "grid_auto_rows": null,
      "grid_column": null,
      "grid_gap": null,
      "grid_row": null,
      "grid_template_areas": null,
      "grid_template_columns": null,
      "grid_template_rows": null,
      "height": null,
      "justify_content": null,
      "justify_items": null,
      "left": null,
      "margin": null,
      "max_height": null,
      "max_width": null,
      "min_height": null,
      "min_width": null,
      "object_fit": null,
      "object_position": null,
      "order": null,
      "overflow": null,
      "overflow_x": null,
      "overflow_y": null,
      "padding": null,
      "right": null,
      "top": null,
      "visibility": null,
      "width": null
     }
    },
    "2082ad38106243fb8d9852962e91f442": {
     "model_module": "@jupyter-widgets/base",
     "model_name": "LayoutModel",
     "state": {
      "_model_module": "@jupyter-widgets/base",
      "_model_module_version": "1.2.0",
      "_model_name": "LayoutModel",
      "_view_count": null,
      "_view_module": "@jupyter-widgets/base",
      "_view_module_version": "1.2.0",
      "_view_name": "LayoutView",
      "align_content": null,
      "align_items": null,
      "align_self": null,
      "border": null,
      "bottom": null,
      "display": null,
      "flex": null,
      "flex_flow": null,
      "grid_area": null,
      "grid_auto_columns": null,
      "grid_auto_flow": null,
      "grid_auto_rows": null,
      "grid_column": null,
      "grid_gap": null,
      "grid_row": null,
      "grid_template_areas": null,
      "grid_template_columns": null,
      "grid_template_rows": null,
      "height": null,
      "justify_content": null,
      "justify_items": null,
      "left": null,
      "margin": null,
      "max_height": null,
      "max_width": null,
      "min_height": null,
      "min_width": null,
      "object_fit": null,
      "object_position": null,
      "order": null,
      "overflow": null,
      "overflow_x": null,
      "overflow_y": null,
      "padding": null,
      "right": null,
      "top": null,
      "visibility": null,
      "width": null
     }
    },
    "432419c8e63c43f581f69646ecb669a5": {
     "model_module": "@jupyter-widgets/controls",
     "model_name": "HTMLModel",
     "state": {
      "_dom_classes": [],
      "_model_module": "@jupyter-widgets/controls",
      "_model_module_version": "1.5.0",
      "_model_name": "HTMLModel",
      "_view_count": null,
      "_view_module": "@jupyter-widgets/controls",
      "_view_module_version": "1.5.0",
      "_view_name": "HTMLView",
      "description": "",
      "description_tooltip": null,
      "layout": "IPY_MODEL_2082ad38106243fb8d9852962e91f442",
      "placeholder": "​",
      "style": "IPY_MODEL_9c4d15759fe145e28735a01b03393a5d",
      "value": "170500096it [00:01, 91148021.04it/s]"
     }
    },
    "81c47ce98ef349c296bc259f18b6aee2": {
     "model_module": "@jupyter-widgets/controls",
     "model_name": "HBoxModel",
     "state": {
      "_dom_classes": [],
      "_model_module": "@jupyter-widgets/controls",
      "_model_module_version": "1.5.0",
      "_model_name": "HBoxModel",
      "_view_count": null,
      "_view_module": "@jupyter-widgets/controls",
      "_view_module_version": "1.5.0",
      "_view_name": "HBoxView",
      "box_style": "",
      "children": [
       "IPY_MODEL_e49d1df8de3949059d0364ab754e5d1a",
       "IPY_MODEL_432419c8e63c43f581f69646ecb669a5"
      ],
      "layout": "IPY_MODEL_b6cb02d2e54d473a83d0d7e31caab975"
     }
    },
    "9c4d15759fe145e28735a01b03393a5d": {
     "model_module": "@jupyter-widgets/controls",
     "model_name": "DescriptionStyleModel",
     "state": {
      "_model_module": "@jupyter-widgets/controls",
      "_model_module_version": "1.5.0",
      "_model_name": "DescriptionStyleModel",
      "_view_count": null,
      "_view_module": "@jupyter-widgets/base",
      "_view_module_version": "1.2.0",
      "_view_name": "StyleView",
      "description_width": ""
     }
    },
    "ac12a4734c994927aaf04f885d464215": {
     "model_module": "@jupyter-widgets/controls",
     "model_name": "ProgressStyleModel",
     "state": {
      "_model_module": "@jupyter-widgets/controls",
      "_model_module_version": "1.5.0",
      "_model_name": "ProgressStyleModel",
      "_view_count": null,
      "_view_module": "@jupyter-widgets/base",
      "_view_module_version": "1.2.0",
      "_view_name": "StyleView",
      "bar_color": null,
      "description_width": ""
     }
    },
    "b6cb02d2e54d473a83d0d7e31caab975": {
     "model_module": "@jupyter-widgets/base",
     "model_name": "LayoutModel",
     "state": {
      "_model_module": "@jupyter-widgets/base",
      "_model_module_version": "1.2.0",
      "_model_name": "LayoutModel",
      "_view_count": null,
      "_view_module": "@jupyter-widgets/base",
      "_view_module_version": "1.2.0",
      "_view_name": "LayoutView",
      "align_content": null,
      "align_items": null,
      "align_self": null,
      "border": null,
      "bottom": null,
      "display": null,
      "flex": null,
      "flex_flow": null,
      "grid_area": null,
      "grid_auto_columns": null,
      "grid_auto_flow": null,
      "grid_auto_rows": null,
      "grid_column": null,
      "grid_gap": null,
      "grid_row": null,
      "grid_template_areas": null,
      "grid_template_columns": null,
      "grid_template_rows": null,
      "height": null,
      "justify_content": null,
      "justify_items": null,
      "left": null,
      "margin": null,
      "max_height": null,
      "max_width": null,
      "min_height": null,
      "min_width": null,
      "object_fit": null,
      "object_position": null,
      "order": null,
      "overflow": null,
      "overflow_x": null,
      "overflow_y": null,
      "padding": null,
      "right": null,
      "top": null,
      "visibility": null,
      "width": null
     }
    },
    "e49d1df8de3949059d0364ab754e5d1a": {
     "model_module": "@jupyter-widgets/controls",
     "model_name": "IntProgressModel",
     "state": {
      "_dom_classes": [],
      "_model_module": "@jupyter-widgets/controls",
      "_model_module_version": "1.5.0",
      "_model_name": "IntProgressModel",
      "_view_count": null,
      "_view_module": "@jupyter-widgets/controls",
      "_view_module_version": "1.5.0",
      "_view_name": "ProgressView",
      "bar_style": "success",
      "description": "",
      "description_tooltip": null,
      "layout": "IPY_MODEL_1348d537345248898f5743c7d9a996cf",
      "max": 1,
      "min": 0,
      "orientation": "horizontal",
      "style": "IPY_MODEL_ac12a4734c994927aaf04f885d464215",
      "value": 1
     }
    }
   }
  }
 },
 "nbformat": 4,
 "nbformat_minor": 1
}
