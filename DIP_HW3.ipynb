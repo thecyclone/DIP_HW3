{
  "nbformat": 4,
  "nbformat_minor": 0,
  "metadata": {
    "colab": {
      "name": "DIP_HW3",
      "provenance": [],
      "collapsed_sections": []
    },
    "kernelspec": {
      "name": "python3",
      "display_name": "Python 3"
    },
    "accelerator": "GPU",
    "widgets": {
      "application/vnd.jupyter.widget-state+json": {
        "9e4a0564622a4e6dabbbba5319afe111": {
          "model_module": "@jupyter-widgets/controls",
          "model_name": "HBoxModel",
          "state": {
            "_view_name": "HBoxView",
            "_dom_classes": [],
            "_model_name": "HBoxModel",
            "_view_module": "@jupyter-widgets/controls",
            "_model_module_version": "1.5.0",
            "_view_count": null,
            "_view_module_version": "1.5.0",
            "box_style": "",
            "layout": "IPY_MODEL_e4b6c32b1900444393de910f6deeaae3",
            "_model_module": "@jupyter-widgets/controls",
            "children": [
              "IPY_MODEL_83f32935fecd4948812f0e43034b1d3e",
              "IPY_MODEL_c177303df17044eab912118542a05ac1"
            ]
          }
        },
        "e4b6c32b1900444393de910f6deeaae3": {
          "model_module": "@jupyter-widgets/base",
          "model_name": "LayoutModel",
          "state": {
            "_view_name": "LayoutView",
            "grid_template_rows": null,
            "right": null,
            "justify_content": null,
            "_view_module": "@jupyter-widgets/base",
            "overflow": null,
            "_model_module_version": "1.2.0",
            "_view_count": null,
            "flex_flow": null,
            "width": null,
            "min_width": null,
            "border": null,
            "align_items": null,
            "bottom": null,
            "_model_module": "@jupyter-widgets/base",
            "top": null,
            "grid_column": null,
            "overflow_y": null,
            "overflow_x": null,
            "grid_auto_flow": null,
            "grid_area": null,
            "grid_template_columns": null,
            "flex": null,
            "_model_name": "LayoutModel",
            "justify_items": null,
            "grid_row": null,
            "max_height": null,
            "align_content": null,
            "visibility": null,
            "align_self": null,
            "height": null,
            "min_height": null,
            "padding": null,
            "grid_auto_rows": null,
            "grid_gap": null,
            "max_width": null,
            "order": null,
            "_view_module_version": "1.2.0",
            "grid_template_areas": null,
            "object_position": null,
            "object_fit": null,
            "grid_auto_columns": null,
            "margin": null,
            "display": null,
            "left": null
          }
        },
        "83f32935fecd4948812f0e43034b1d3e": {
          "model_module": "@jupyter-widgets/controls",
          "model_name": "IntProgressModel",
          "state": {
            "_view_name": "ProgressView",
            "style": "IPY_MODEL_e67fb98fc5a04af2aae1c24a8261e222",
            "_dom_classes": [],
            "description": "",
            "_model_name": "IntProgressModel",
            "bar_style": "success",
            "max": 1,
            "_view_module": "@jupyter-widgets/controls",
            "_model_module_version": "1.5.0",
            "value": 1,
            "_view_count": null,
            "_view_module_version": "1.5.0",
            "orientation": "horizontal",
            "min": 0,
            "description_tooltip": null,
            "_model_module": "@jupyter-widgets/controls",
            "layout": "IPY_MODEL_45aaeafd2c0d445599576eb67dad1f97"
          }
        },
        "c177303df17044eab912118542a05ac1": {
          "model_module": "@jupyter-widgets/controls",
          "model_name": "HTMLModel",
          "state": {
            "_view_name": "HTMLView",
            "style": "IPY_MODEL_d40aa6f686e84dfe993781bbb028b114",
            "_dom_classes": [],
            "description": "",
            "_model_name": "HTMLModel",
            "placeholder": "​",
            "_view_module": "@jupyter-widgets/controls",
            "_model_module_version": "1.5.0",
            "value": "170500096it [00:03, 43068668.96it/s]",
            "_view_count": null,
            "_view_module_version": "1.5.0",
            "description_tooltip": null,
            "_model_module": "@jupyter-widgets/controls",
            "layout": "IPY_MODEL_627e13018f4341ba910ebf049e21f215"
          }
        },
        "e67fb98fc5a04af2aae1c24a8261e222": {
          "model_module": "@jupyter-widgets/controls",
          "model_name": "ProgressStyleModel",
          "state": {
            "_view_name": "StyleView",
            "_model_name": "ProgressStyleModel",
            "description_width": "",
            "_view_module": "@jupyter-widgets/base",
            "_model_module_version": "1.5.0",
            "_view_count": null,
            "_view_module_version": "1.2.0",
            "bar_color": null,
            "_model_module": "@jupyter-widgets/controls"
          }
        },
        "45aaeafd2c0d445599576eb67dad1f97": {
          "model_module": "@jupyter-widgets/base",
          "model_name": "LayoutModel",
          "state": {
            "_view_name": "LayoutView",
            "grid_template_rows": null,
            "right": null,
            "justify_content": null,
            "_view_module": "@jupyter-widgets/base",
            "overflow": null,
            "_model_module_version": "1.2.0",
            "_view_count": null,
            "flex_flow": null,
            "width": null,
            "min_width": null,
            "border": null,
            "align_items": null,
            "bottom": null,
            "_model_module": "@jupyter-widgets/base",
            "top": null,
            "grid_column": null,
            "overflow_y": null,
            "overflow_x": null,
            "grid_auto_flow": null,
            "grid_area": null,
            "grid_template_columns": null,
            "flex": null,
            "_model_name": "LayoutModel",
            "justify_items": null,
            "grid_row": null,
            "max_height": null,
            "align_content": null,
            "visibility": null,
            "align_self": null,
            "height": null,
            "min_height": null,
            "padding": null,
            "grid_auto_rows": null,
            "grid_gap": null,
            "max_width": null,
            "order": null,
            "_view_module_version": "1.2.0",
            "grid_template_areas": null,
            "object_position": null,
            "object_fit": null,
            "grid_auto_columns": null,
            "margin": null,
            "display": null,
            "left": null
          }
        },
        "d40aa6f686e84dfe993781bbb028b114": {
          "model_module": "@jupyter-widgets/controls",
          "model_name": "DescriptionStyleModel",
          "state": {
            "_view_name": "StyleView",
            "_model_name": "DescriptionStyleModel",
            "description_width": "",
            "_view_module": "@jupyter-widgets/base",
            "_model_module_version": "1.5.0",
            "_view_count": null,
            "_view_module_version": "1.2.0",
            "_model_module": "@jupyter-widgets/controls"
          }
        },
        "627e13018f4341ba910ebf049e21f215": {
          "model_module": "@jupyter-widgets/base",
          "model_name": "LayoutModel",
          "state": {
            "_view_name": "LayoutView",
            "grid_template_rows": null,
            "right": null,
            "justify_content": null,
            "_view_module": "@jupyter-widgets/base",
            "overflow": null,
            "_model_module_version": "1.2.0",
            "_view_count": null,
            "flex_flow": null,
            "width": null,
            "min_width": null,
            "border": null,
            "align_items": null,
            "bottom": null,
            "_model_module": "@jupyter-widgets/base",
            "top": null,
            "grid_column": null,
            "overflow_y": null,
            "overflow_x": null,
            "grid_auto_flow": null,
            "grid_area": null,
            "grid_template_columns": null,
            "flex": null,
            "_model_name": "LayoutModel",
            "justify_items": null,
            "grid_row": null,
            "max_height": null,
            "align_content": null,
            "visibility": null,
            "align_self": null,
            "height": null,
            "min_height": null,
            "padding": null,
            "grid_auto_rows": null,
            "grid_gap": null,
            "max_width": null,
            "order": null,
            "_view_module_version": "1.2.0",
            "grid_template_areas": null,
            "object_position": null,
            "object_fit": null,
            "grid_auto_columns": null,
            "margin": null,
            "display": null,
            "left": null
          }
        }
      }
    }
  },
  "cells": [
    {
      "cell_type": "code",
      "metadata": {
        "id": "cJlCdIrYsL_U",
        "colab_type": "code",
        "colab": {}
      },
      "source": [
        "import torch\n",
        "import torchvision\n",
        "import torchvision.transforms as transforms\n",
        "import matplotlib.pyplot as plt\n",
        "import numpy as np\n",
        "import torch.nn as nn\n",
        "import torch.nn.functional as F"
      ],
      "execution_count": 0,
      "outputs": []
    },
    {
      "cell_type": "code",
      "metadata": {
        "id": "X5HF2h20sNnf",
        "colab_type": "code",
        "colab": {}
      },
      "source": [
        "device = torch.device(\"cuda:0\" if torch.cuda.is_available() else \"cpu\")"
      ],
      "execution_count": 0,
      "outputs": []
    },
    {
      "cell_type": "code",
      "metadata": {
        "id": "i0nx_VpMr7kR",
        "colab_type": "code",
        "outputId": "1c326c00-a8ea-4393-a7b4-2e36356af668",
        "colab": {
          "base_uri": "https://localhost:8080/",
          "height": 34
        }
      },
      "source": [
        "print(device)"
      ],
      "execution_count": 0,
      "outputs": [
        {
          "output_type": "stream",
          "text": [
            "cuda:0\n"
          ],
          "name": "stdout"
        }
      ]
    },
    {
      "cell_type": "code",
      "metadata": {
        "id": "N1fB_31Ap8mV",
        "colab_type": "code",
        "outputId": "5424e57e-16cb-43cc-a893-e991aeda918c",
        "colab": {
          "base_uri": "https://localhost:8080/",
          "height": 117,
          "referenced_widgets": [
            "9e4a0564622a4e6dabbbba5319afe111",
            "e4b6c32b1900444393de910f6deeaae3",
            "83f32935fecd4948812f0e43034b1d3e",
            "c177303df17044eab912118542a05ac1",
            "e67fb98fc5a04af2aae1c24a8261e222",
            "45aaeafd2c0d445599576eb67dad1f97",
            "d40aa6f686e84dfe993781bbb028b114",
            "627e13018f4341ba910ebf049e21f215"
          ]
        }
      },
      "source": [
        "########################################################################\n",
        "# The output of torchvision datasets are PILImage images of range [0, 1].\n",
        "# We transform them to Tensors of normalized range [-1, 1].\n",
        "# .. note::\n",
        "#     If running on Windows and you get a BrokenPipeError, try setting\n",
        "#     the num_worker of torch.utils.data.DataLoader() to 0.\n",
        "\n",
        "transform = transforms.Compose(\n",
        "    [transforms.ToTensor(),\n",
        "     transforms.Normalize((0.5, 0.5, 0.5), (0.5, 0.5, 0.5))])\n",
        "\n",
        "trainset = torchvision.datasets.CIFAR10(root='./data', train=True,\n",
        "                                        download=True, transform=transform)\n",
        "trainloader = torch.utils.data.DataLoader(trainset, batch_size=4,\n",
        "                                          shuffle=True, num_workers=2)\n",
        "\n",
        "testset = torchvision.datasets.CIFAR10(root='./data', train=False,\n",
        "                                       download=True, transform=transform)\n",
        "testloader = torch.utils.data.DataLoader(testset, batch_size=4,\n",
        "                                         shuffle=False, num_workers=2)\n",
        "\n",
        "classes = ('plane', 'car', 'bird', 'cat',\n",
        "           'deer', 'dog', 'frog', 'horse', 'ship', 'truck')\n",
        "\n",
        "########################################################################\n",
        "# Let us show some of the training images, for fun."
      ],
      "execution_count": 0,
      "outputs": [
        {
          "output_type": "stream",
          "text": [
            "Downloading https://www.cs.toronto.edu/~kriz/cifar-10-python.tar.gz to ./data/cifar-10-python.tar.gz\n"
          ],
          "name": "stdout"
        },
        {
          "output_type": "display_data",
          "data": {
            "application/vnd.jupyter.widget-view+json": {
              "model_id": "9e4a0564622a4e6dabbbba5319afe111",
              "version_minor": 0,
              "version_major": 2
            },
            "text/plain": [
              "HBox(children=(IntProgress(value=1, bar_style='info', max=1), HTML(value='')))"
            ]
          },
          "metadata": {
            "tags": []
          }
        },
        {
          "output_type": "stream",
          "text": [
            "\n",
            "Extracting ./data/cifar-10-python.tar.gz to ./data\n",
            "Files already downloaded and verified\n"
          ],
          "name": "stdout"
        }
      ]
    },
    {
      "cell_type": "code",
      "metadata": {
        "id": "GrG4EA8zqH_x",
        "colab_type": "code",
        "colab": {}
      },
      "source": [
        "# functions to show an image\n",
        "\n",
        "\n",
        "def imshow(img):\n",
        "    img = img / 2 + 0.5     # unnormalize\n",
        "    npimg = img.numpy()\n",
        "    plt.imshow(np.transpose(npimg, (1, 2, 0)))\n",
        "    plt.show()"
      ],
      "execution_count": 0,
      "outputs": []
    },
    {
      "cell_type": "code",
      "metadata": {
        "id": "Z2WeVhkVqS2P",
        "colab_type": "code",
        "outputId": "95f153a5-f25c-4557-ce30-8bc1dcea5339",
        "colab": {
          "base_uri": "https://localhost:8080/",
          "height": 155
        }
      },
      "source": [
        "# get some random training images\n",
        "dataiter = iter(trainloader)\n",
        "images, labels = dataiter.next()\n",
        "\n",
        "# show images\n",
        "imshow(torchvision.utils.make_grid(images))\n",
        "# print labels\n",
        "print(' '.join('%5s' % classes[labels[j]] for j in range(4)))"
      ],
      "execution_count": 0,
      "outputs": [
        {
          "output_type": "display_data",
          "data": {
            "image/png": "[encoded data removed]",
            "text/plain": [
              "<Figure size 432x288 with 1 Axes>"
            ]
          },
          "metadata": {
            "tags": []
          }
        },
        {
          "output_type": "stream",
          "text": [
            "horse  deer  frog   dog\n"
          ],
          "name": "stdout"
        }
      ]
    },
    {
      "cell_type": "code",
      "metadata": {
        "id": "XzrxV9AoqZwK",
        "colab_type": "code",
        "colab": {}
      },
      "source": [
        "########################################################################\n",
        "# 2. Define a Convolutional Neural Network\n",
        "# ^^^^^^^^^^^^^^^^^^^^^^^^^^^^^^^^^^^^^^\n",
        "# Copy the neural network from the Neural Networks section before and modify it to\n",
        "# take 3-channel images (instead of 1-channel images as it was defined).\n",
        "\n",
        "\n",
        "\n",
        "\n",
        "class Net(nn.Module):\n",
        "    def __init__(self):\n",
        "        super(Net, self).__init__()\n",
        "        self.conv1 = nn.Conv2d(3, 6, 5)\n",
        "        self.conv2 = nn.Conv2d(6, 10, 5)\n",
        "        self.conv3 = nn.Conv2d(10, 16, 5)\n",
        "        self.fc1 = nn.Linear(16 * 20 * 20, 450)\n",
        "        self.fc2 = nn.Linear(450, 150)\n",
        "        self.fc3 = nn.Linear(150, 10)\n",
        "\n",
        "    def forward(self, x):\n",
        "        x = F.relu(self.conv1(x))\n",
        "        x = F.relu(self.conv2(x))\n",
        "        x = F.relu(self.conv3(x))\n",
        "        x = x.view(-1, 16 * 20 * 20)\n",
        "        x = F.relu(self.fc1(x))\n",
        "        x = F.relu(self.fc2(x))\n",
        "        x = self.fc3(x)\n",
        "        return x\n",
        "\n",
        "\n",
        "net = Net()"
      ],
      "execution_count": 0,
      "outputs": []
    },
    {
      "cell_type": "code",
      "metadata": {
        "id": "DnA__-LLoLRq",
        "colab_type": "code",
        "colab": {}
      },
      "source": [
        "def get_n_params(model):\n",
        "    pp=0\n",
        "    for p in list(model.parameters()):\n",
        "        nn=1\n",
        "        for s in list(p.size()):\n",
        "            nn = nn*s\n",
        "        pp += nn\n",
        "    return pp"
      ],
      "execution_count": 0,
      "outputs": []
    },
    {
      "cell_type": "code",
      "metadata": {
        "id": "72nEleSDqrTV",
        "colab_type": "code",
        "colab": {}
      },
      "source": [
        "########################################################################\n",
        "# 3. Define a Loss function and optimizer\n",
        "# ^^^^^^^^^^^^^^^^^^^^^^^^^^^^^^^^^^^^^^^\n",
        "# Let's use a Classification Cross-Entropy loss and SGD with momentum.\n",
        "\n",
        "import torch.optim as optim\n",
        "\n",
        "criterion = nn.CrossEntropyLoss()\n",
        "optimizer = optim.SGD(net.parameters(), lr=0.001, momentum=0.9)"
      ],
      "execution_count": 0,
      "outputs": []
    },
    {
      "cell_type": "code",
      "metadata": {
        "id": "ynBVu_lvlB8D",
        "colab_type": "code",
        "outputId": "6fcfb441-9c40-436f-8f6e-1f8e28829059",
        "colab": {
          "base_uri": "https://localhost:8080/",
          "height": 153
        }
      },
      "source": [
        "print(net)"
      ],
      "execution_count": 0,
      "outputs": [
        {
          "output_type": "stream",
          "text": [
            "Net(\n",
            "  (conv1): Conv2d(3, 6, kernel_size=(5, 5), stride=(1, 1))\n",
            "  (conv2): Conv2d(6, 10, kernel_size=(5, 5), stride=(1, 1))\n",
            "  (conv3): Conv2d(10, 16, kernel_size=(5, 5), stride=(1, 1))\n",
            "  (fc1): Linear(in_features=6400, out_features=450, bias=True)\n",
            "  (fc2): Linear(in_features=450, out_features=150, bias=True)\n",
            "  (fc3): Linear(in_features=150, out_features=10, bias=True)\n",
            ")\n"
          ],
          "name": "stdout"
        }
      ]
    },
    {
      "cell_type": "code",
      "metadata": {
        "id": "NEpfS6QEoN1s",
        "colab_type": "code",
        "outputId": "3bc506ee-09c1-4476-b8b7-e21257eb95ec",
        "colab": {
          "base_uri": "https://localhost:8080/",
          "height": 34
        }
      },
      "source": [
        "param1 = get_n_params(net)\n",
        "print(param1)"
      ],
      "execution_count": 0,
      "outputs": [
        {
          "output_type": "stream",
          "text": [
            "2955592\n"
          ],
          "name": "stdout"
        }
      ]
    },
    {
      "cell_type": "code",
      "metadata": {
        "id": "1abwz-U5qsgf",
        "colab_type": "code",
        "outputId": "9a912141-551e-4b28-f6a9-a2f4960db893",
        "colab": {
          "base_uri": "https://localhost:8080/",
          "height": 1000
        }
      },
      "source": [
        "########################################################################\n",
        "# 4. Train the network\n",
        "# ^^^^^^^^^^^^^^^^^^^^\n",
        "#\n",
        "# This is when things start to get interesting.\n",
        "# We simply have to loop over our data iterator, and feed the inputs to the\n",
        "# network and optimize.\n",
        "lossy_loss = []\n",
        "for epoch in range(20):  # loop over the dataset multiple times\n",
        "    loss_values = []\n",
        "    running_loss = 0.0\n",
        "    for i, data in enumerate(trainloader, 0):\n",
        "        # get the inputs; data is a list of [inputs, labels]\n",
        "        inputs, labels = data\n",
        "\n",
        "        # zero the parameter gradients\n",
        "        optimizer.zero_grad()\n",
        "\n",
        "        # forward + backward + optimize\n",
        "        outputs = net(inputs)\n",
        "        loss = criterion(outputs, labels)\n",
        "        loss.backward()\n",
        "        optimizer.step()\n",
        "\n",
        "        # print statistics\n",
        "        running_loss += loss.item()\n",
        "        if i % 2000 == 1999:    # print every 2000 mini-batches\n",
        "            print('[%d, %5d] loss: %.3f' %\n",
        "                  (epoch + 1, i + 1, running_loss / 2000))\n",
        "            loss_values.append(running_loss / 2000)\n",
        "            running_loss = 0.0\n",
        "    \n",
        "    lossy_loss.append(np.mean(np.array(loss_values)))\n",
        "\n",
        "print('Finished Training')"
      ],
      "execution_count": 0,
      "outputs": [
        {
          "output_type": "stream",
          "text": [
            "[1,  2000] loss: 2.197\n",
            "[1,  4000] loss: 1.876\n",
            "[1,  6000] loss: 1.733\n",
            "[1,  8000] loss: 1.621\n",
            "[1, 10000] loss: 1.574\n",
            "[1, 12000] loss: 1.490\n",
            "[2,  2000] loss: 1.436\n",
            "[2,  4000] loss: 1.382\n",
            "[2,  6000] loss: 1.385\n",
            "[2,  8000] loss: 1.363\n",
            "[2, 10000] loss: 1.323\n",
            "[2, 12000] loss: 1.285\n",
            "[3,  2000] loss: 1.193\n",
            "[3,  4000] loss: 1.206\n",
            "[3,  6000] loss: 1.192\n",
            "[3,  8000] loss: 1.157\n",
            "[3, 10000] loss: 1.186\n",
            "[3, 12000] loss: 1.170\n",
            "[4,  2000] loss: 1.013\n",
            "[4,  4000] loss: 1.021\n",
            "[4,  6000] loss: 1.022\n",
            "[4,  8000] loss: 1.025\n",
            "[4, 10000] loss: 1.029\n",
            "[4, 12000] loss: 1.039\n",
            "[5,  2000] loss: 0.815\n",
            "[5,  4000] loss: 0.850\n",
            "[5,  6000] loss: 0.880\n",
            "[5,  8000] loss: 0.875\n",
            "[5, 10000] loss: 0.896\n",
            "[5, 12000] loss: 0.920\n",
            "[6,  2000] loss: 0.628\n",
            "[6,  4000] loss: 0.671\n",
            "[6,  6000] loss: 0.702\n",
            "[6,  8000] loss: 0.750\n",
            "[6, 10000] loss: 0.762\n",
            "[6, 12000] loss: 0.747\n",
            "[7,  2000] loss: 0.471\n",
            "[7,  4000] loss: 0.514\n",
            "[7,  6000] loss: 0.540\n",
            "[7,  8000] loss: 0.591\n",
            "[7, 10000] loss: 0.592\n",
            "[7, 12000] loss: 0.628\n",
            "[8,  2000] loss: 0.345\n",
            "[8,  4000] loss: 0.400\n",
            "[8,  6000] loss: 0.449\n",
            "[8,  8000] loss: 0.489\n",
            "[8, 10000] loss: 0.514\n",
            "[8, 12000] loss: 0.517\n",
            "[9,  2000] loss: 0.271\n",
            "[9,  4000] loss: 0.327\n",
            "[9,  6000] loss: 0.381\n",
            "[9,  8000] loss: 0.388\n",
            "[9, 10000] loss: 0.415\n",
            "[9, 12000] loss: 0.416\n",
            "[10,  2000] loss: 0.252\n",
            "[10,  4000] loss: 0.298\n",
            "[10,  6000] loss: 0.324\n",
            "[10,  8000] loss: 0.307\n",
            "[10, 10000] loss: 0.358\n",
            "[10, 12000] loss: 0.386\n",
            "[11,  2000] loss: 0.202\n",
            "[11,  4000] loss: 0.234\n",
            "[11,  6000] loss: 0.254\n",
            "[11,  8000] loss: 0.280\n",
            "[11, 10000] loss: 0.301\n",
            "[11, 12000] loss: 0.322\n",
            "[12,  2000] loss: 0.188\n",
            "[12,  4000] loss: 0.229\n",
            "[12,  6000] loss: 0.223\n",
            "[12,  8000] loss: 0.268\n",
            "[12, 10000] loss: 0.280\n",
            "[12, 12000] loss: 0.290\n",
            "[13,  2000] loss: 0.146\n",
            "[13,  4000] loss: 0.191\n",
            "[13,  6000] loss: 0.188\n",
            "[13,  8000] loss: 0.215\n",
            "[13, 10000] loss: 0.221\n",
            "[13, 12000] loss: 0.230\n",
            "[14,  2000] loss: 0.144\n",
            "[14,  4000] loss: 0.172\n",
            "[14,  6000] loss: 0.214\n",
            "[14,  8000] loss: 0.220\n",
            "[14, 10000] loss: 0.216\n",
            "[14, 12000] loss: 0.227\n",
            "[15,  2000] loss: 0.103\n",
            "[15,  4000] loss: 0.147\n",
            "[15,  6000] loss: 0.158\n",
            "[15,  8000] loss: 0.205\n",
            "[15, 10000] loss: 0.215\n",
            "[15, 12000] loss: 0.232\n",
            "[16,  2000] loss: 0.121\n",
            "[16,  4000] loss: 0.153\n",
            "[16,  6000] loss: 0.179\n",
            "[16,  8000] loss: 0.177\n",
            "[16, 10000] loss: 0.205\n",
            "[16, 12000] loss: 0.226\n",
            "[17,  2000] loss: 0.147\n",
            "[17,  4000] loss: 0.135\n",
            "[17,  6000] loss: 0.146\n",
            "[17,  8000] loss: 0.170\n",
            "[17, 10000] loss: 0.185\n",
            "[17, 12000] loss: 0.219\n",
            "[18,  2000] loss: 0.136\n",
            "[18,  4000] loss: 0.142\n",
            "[18,  6000] loss: 0.189\n",
            "[18,  8000] loss: 0.178\n",
            "[18, 10000] loss: 0.193\n",
            "[18, 12000] loss: 0.177\n",
            "[19,  2000] loss: 0.084\n",
            "[19,  4000] loss: 0.098\n",
            "[19,  6000] loss: 0.135\n",
            "[19,  8000] loss: 0.136\n",
            "[19, 10000] loss: 0.235\n",
            "[19, 12000] loss: 0.163\n",
            "[20,  2000] loss: 0.111\n",
            "[20,  4000] loss: 0.139\n",
            "[20,  6000] loss: 0.145\n",
            "[20,  8000] loss: 0.152\n",
            "[20, 10000] loss: 0.187\n",
            "[20, 12000] loss: 0.184\n",
            "Finished Training\n"
          ],
          "name": "stdout"
        }
      ]
    },
    {
      "cell_type": "code",
      "metadata": {
        "id": "8u5LwEkINuM9",
        "colab_type": "code",
        "outputId": "9758ac49-d187-4fd6-dd45-c0beb497ae34",
        "colab": {
          "base_uri": "https://localhost:8080/",
          "height": 312
        }
      },
      "source": [
        "plt.plot(np.array(lossy_loss), 'r')\n",
        "plt.xlabel('# of epochs')\n",
        "plt.ylabel('Loss')\n",
        "plt.title('Loss History vs # of Epochs')"
      ],
      "execution_count": 0,
      "outputs": [
        {
          "output_type": "execute_result",
          "data": {
            "text/plain": [
              "Text(0.5, 1.0, 'Loss History vs # of Epochs')"
            ]
          },
          "metadata": {
            "tags": []
          },
          "execution_count": 15
        },
        {
          "output_type": "display_data",
          "data": {
            "image/png": "[encoded data removed]",
            "text/plain": [
              "<Figure size 432x288 with 1 Axes>"
            ]
          },
          "metadata": {
            "tags": []
          }
        }
      ]
    },
    {
      "cell_type": "code",
      "metadata": {
        "id": "HXob9Jdqq2AN",
        "colab_type": "code",
        "colab": {}
      },
      "source": [
        "########################################################################\n",
        "# Let's quickly save our trained model:\n",
        "\n",
        "PATH = './cifar_net_4.pth'\n",
        "torch.save(net.state_dict(), PATH)"
      ],
      "execution_count": 0,
      "outputs": []
    },
    {
      "cell_type": "code",
      "metadata": {
        "id": "H1TUj1blOoB6",
        "colab_type": "code",
        "outputId": "eeba4d62-bfd8-46d4-a02d-087ce49aba75",
        "colab": {
          "base_uri": "https://localhost:8080/",
          "height": 34
        }
      },
      "source": [
        "correct = 0\n",
        "total = 0\n",
        "with torch.no_grad():\n",
        "    for data in trainloader:\n",
        "        images, labels = data\n",
        "        outputs = net(images)\n",
        "        _, predicted = torch.max(outputs.data, 1)\n",
        "        total += labels.size(0)\n",
        "        correct += (predicted == labels).sum().item()\n",
        "\n",
        "print('Accuracy of the network on the 50000 training images: %d %%' % (\n",
        "    100 * correct / total))"
      ],
      "execution_count": 0,
      "outputs": [
        {
          "output_type": "stream",
          "text": [
            "Accuracy of the network on the 50000 training images: 96 %\n"
          ],
          "name": "stdout"
        }
      ]
    },
    {
      "cell_type": "code",
      "metadata": {
        "id": "ieTs2agUS19I",
        "colab_type": "code",
        "outputId": "0dbcb578-6b22-429d-9ac6-17451e29561b",
        "colab": {
          "base_uri": "https://localhost:8080/",
          "height": 187
        }
      },
      "source": [
        "class_correct = list(0. for i in range(10))\n",
        "class_total = list(0. for i in range(10))\n",
        "with torch.no_grad():\n",
        "    for data in trainloader:\n",
        "        images, labels = data\n",
        "        outputs = net(images)\n",
        "        _, predicted = torch.max(outputs, 1)\n",
        "        c = (predicted == labels).squeeze()\n",
        "        for i in range(4):\n",
        "            label = labels[i]\n",
        "            class_correct[label] += c[i].item()\n",
        "            class_total[label] += 1\n",
        "\n",
        "\n",
        "for i in range(10):\n",
        "    print('Accuracy of %5s : %2d %%' % (\n",
        "        classes[i], 100 * class_correct[i] / class_total[i]))"
      ],
      "execution_count": 0,
      "outputs": [
        {
          "output_type": "stream",
          "text": [
            "Accuracy of plane : 94 %\n",
            "Accuracy of   car : 94 %\n",
            "Accuracy of  bird : 96 %\n",
            "Accuracy of   cat : 95 %\n",
            "Accuracy of  deer : 98 %\n",
            "Accuracy of   dog : 95 %\n",
            "Accuracy of  frog : 98 %\n",
            "Accuracy of horse : 97 %\n",
            "Accuracy of  ship : 98 %\n",
            "Accuracy of truck : 95 %\n"
          ],
          "name": "stdout"
        }
      ]
    },
    {
      "cell_type": "code",
      "metadata": {
        "id": "R7mc0ti_rMFE",
        "colab_type": "code",
        "outputId": "5e6be267-6567-4e2b-ad87-86ee755c2748",
        "colab": {
          "base_uri": "https://localhost:8080/",
          "height": 155
        }
      },
      "source": [
        "########################################################################\n",
        "# See `here <https://pytorch.org/docs/stable/notes/serialization.html>`_\n",
        "# for more details on saving PyTorch models.\n",
        "#\n",
        "# 5. Test the network on the test data\n",
        "# ^^^^^^^^^^^^^^^^^^^^^^^^^^^^^^^^^^^^\n",
        "#\n",
        "# We have trained the network for 2 passes over the training dataset.\n",
        "# But we need to check if the network has learnt anything at all.\n",
        "#\n",
        "# We will check this by predicting the class label that the neural network\n",
        "# outputs, and checking it against the ground-truth. If the prediction is\n",
        "# correct, we add the sample to the list of correct predictions.\n",
        "#\n",
        "# Okay, first step. Let us display an image from the test set to get familiar.\n",
        "\n",
        "dataiter = iter(testloader)\n",
        "images, labels = dataiter.next()\n",
        "\n",
        "# print images\n",
        "imshow(torchvision.utils.make_grid(images))\n",
        "print('GroundTruth: ', ' '.join('%5s' % classes[labels[j]] for j in range(4)))"
      ],
      "execution_count": 0,
      "outputs": [
        {
          "output_type": "display_data",
          "data": {
            "image/png": "[encoded data removed]",
            "text/plain": [
              "<Figure size 432x288 with 1 Axes>"
            ]
          },
          "metadata": {
            "tags": []
          }
        },
        {
          "output_type": "stream",
          "text": [
            "GroundTruth:    cat  ship  ship plane\n"
          ],
          "name": "stdout"
        }
      ]
    },
    {
      "cell_type": "code",
      "metadata": {
        "id": "DrzCSEAlrOnV",
        "colab_type": "code",
        "outputId": "b16f9553-893c-4d94-db3d-896e2ae1159c",
        "colab": {
          "base_uri": "https://localhost:8080/",
          "height": 34
        }
      },
      "source": [
        "########################################################################\n",
        "# Next, let's load back in our saved model (note: saving and re-loading the model\n",
        "# wasn't necessary here, we only did it to illustrate how to do so):\n",
        "\n",
        "net = Net()\n",
        "net.load_state_dict(torch.load(PATH))"
      ],
      "execution_count": 0,
      "outputs": [
        {
          "output_type": "execute_result",
          "data": {
            "text/plain": [
              "<All keys matched successfully>"
            ]
          },
          "metadata": {
            "tags": []
          },
          "execution_count": 19
        }
      ]
    },
    {
      "cell_type": "code",
      "metadata": {
        "id": "isjbm8FErPN-",
        "colab_type": "code",
        "colab": {}
      },
      "source": [
        "########################################################################\n",
        "# Okay, now let us see what the neural network thinks these examples above are:\n",
        "\n",
        "outputs = net(images)"
      ],
      "execution_count": 0,
      "outputs": []
    },
    {
      "cell_type": "code",
      "metadata": {
        "id": "t0VtG_GArUVk",
        "colab_type": "code",
        "outputId": "54889766-ac5f-4739-fcdc-2960e392d2ac",
        "colab": {
          "base_uri": "https://localhost:8080/",
          "height": 34
        }
      },
      "source": [
        "########################################################################\n",
        "# The outputs are energies for the 10 classes.\n",
        "# The higher the energy for a class, the more the network\n",
        "# thinks that the image is of the particular class.\n",
        "# So, let's get the index of the highest energy:\n",
        "_, predicted = torch.max(outputs, 1)\n",
        "\n",
        "print('Predicted: ', ' '.join('%5s' % classes[predicted[j]]\n",
        "                              for j in range(4)))"
      ],
      "execution_count": 0,
      "outputs": [
        {
          "output_type": "stream",
          "text": [
            "Predicted:  truck  ship  ship plane\n"
          ],
          "name": "stdout"
        }
      ]
    },
    {
      "cell_type": "code",
      "metadata": {
        "id": "HrKE6hiLrtSc",
        "colab_type": "code",
        "outputId": "f52116a7-de8b-47d4-b68f-b7ba56413fa4",
        "colab": {
          "base_uri": "https://localhost:8080/",
          "height": 34
        }
      },
      "source": [
        "\n",
        "########################################################################\n",
        "# The results seem pretty good.\n",
        "#\n",
        "# Let us look at how the network performs on the whole dataset.\n",
        "\n",
        "correct = 0\n",
        "total = 0\n",
        "with torch.no_grad():\n",
        "    for data in testloader:\n",
        "        images, labels = data\n",
        "        outputs = net(images)\n",
        "        _, predicted = torch.max(outputs.data, 1)\n",
        "        total += labels.size(0)\n",
        "        correct += (predicted == labels).sum().item()\n",
        "\n",
        "print('Accuracy of the network on the 10000 test images: %d %%' % (\n",
        "    100 * correct / total))"
      ],
      "execution_count": 0,
      "outputs": [
        {
          "output_type": "stream",
          "text": [
            "Accuracy of the network on the 10000 test images: 55 %\n"
          ],
          "name": "stdout"
        }
      ]
    },
    {
      "cell_type": "code",
      "metadata": {
        "id": "u2tEUvKZr1Ah",
        "colab_type": "code",
        "outputId": "ff12252e-7fd8-43d9-c0df-f748bd4e82e2",
        "colab": {
          "base_uri": "https://localhost:8080/",
          "height": 187
        }
      },
      "source": [
        "########################################################################\n",
        "# That looks way better than chance, which is 10% accuracy (randomly picking\n",
        "# a class out of 10 classes).\n",
        "# Seems like the network learnt something.\n",
        "#\n",
        "# Hmmm, what are the classes that performed well, and the classes that did\n",
        "# not perform well:\n",
        "\n",
        "class_correct = list(0. for i in range(10))\n",
        "class_total = list(0. for i in range(10))\n",
        "with torch.no_grad():\n",
        "    for data in testloader:\n",
        "        images, labels = data\n",
        "        outputs = net(images)\n",
        "        _, predicted = torch.max(outputs, 1)\n",
        "        c = (predicted == labels).squeeze()\n",
        "        for i in range(4):\n",
        "            label = labels[i]\n",
        "            class_correct[label] += c[i].item()\n",
        "            class_total[label] += 1\n",
        "\n",
        "\n",
        "for i in range(10):\n",
        "    print('Accuracy of %5s : %2d %%' % (\n",
        "        classes[i], 100 * class_correct[i] / class_total[i]))"
      ],
      "execution_count": 0,
      "outputs": [
        {
          "output_type": "stream",
          "text": [
            "Accuracy of plane : 55 %\n",
            "Accuracy of   car : 65 %\n",
            "Accuracy of  bird : 38 %\n",
            "Accuracy of   cat : 37 %\n",
            "Accuracy of  deer : 56 %\n",
            "Accuracy of   dog : 40 %\n",
            "Accuracy of  frog : 68 %\n",
            "Accuracy of horse : 58 %\n",
            "Accuracy of  ship : 74 %\n",
            "Accuracy of truck : 60 %\n"
          ],
          "name": "stdout"
        }
      ]
    }
  ]
}